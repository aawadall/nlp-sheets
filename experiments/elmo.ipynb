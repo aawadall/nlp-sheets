{
  "nbformat": 4,
  "nbformat_minor": 0,
  "metadata": {
    "colab": {
      "provenance": [],
      "toc_visible": true,
      "authorship_tag": "ABX9TyMVJWTtPE24P1soVoIDAib5",
      "include_colab_link": true
    },
    "kernelspec": {
      "name": "python3",
      "display_name": "Python 3"
    },
    "language_info": {
      "name": "python"
    }
  },
  "cells": [
    {
      "cell_type": "markdown",
      "metadata": {
        "id": "view-in-github",
        "colab_type": "text"
      },
      "source": [
        "<a href=\"https://colab.research.google.com/github/aawadall/nlp-sheets/blob/main/experiments/elmo.ipynb\" target=\"_parent\"><img src=\"https://colab.research.google.com/assets/colab-badge.svg\" alt=\"Open In Colab\"/></a>"
      ]
    },
    {
      "cell_type": "markdown",
      "source": [
        "\n",
        "# Experimenting with ELMo\n",
        "in this sheet, I will experiment with ELMo language model based on recommended code provided by GPT chat \n"
      ],
      "metadata": {
        "id": "4ALtv_too256"
      }
    },
    {
      "cell_type": "code",
      "execution_count": 2,
      "metadata": {
        "id": "mzENTTGmorE3"
      },
      "outputs": [],
      "source": [
        "\n",
        "#@title Select environment\n",
        "environment = \"colab\" #@param [\"colab\", \"local\"]"
      ]
    },
    {
      "cell_type": "code",
      "source": [
        "if environment == 'colab':\n",
        "  %tensorflow_version 2.x\n",
        "elif environment == 'local':\n",
        "  !pip install --upgrade tensorflow "
      ],
      "metadata": {
        "colab": {
          "base_uri": "https://localhost:8080/"
        },
        "id": "RE2lCWS1pH7U",
        "outputId": "34ef20e3-14b0-4399-945d-d5859c32e9bf"
      },
      "execution_count": 7,
      "outputs": [
        {
          "output_type": "stream",
          "name": "stdout",
          "text": [
            "Colab only includes TensorFlow 2.x; %tensorflow_version has no effect.\n"
          ]
        }
      ]
    },
    {
      "cell_type": "markdown",
      "source": [
        "## Import Libraries\n",
        "Import libraries"
      ],
      "metadata": {
        "id": "HoouBzbBpUGV"
      }
    },
    {
      "cell_type": "code",
      "source": [
        "import tensorflow as tf\n",
        "import tensorflow_hub as hub"
      ],
      "metadata": {
        "id": "548RV2iSpcH2"
      },
      "execution_count": 8,
      "outputs": []
    },
    {
      "cell_type": "markdown",
      "source": [
        "## Load ELMo Model \n",
        "Load ELMo language model from TensorFlow Hub\n",
        "\n",
        "_This should take some time_"
      ],
      "metadata": {
        "id": "Sb84vQbdpfk3"
      }
    },
    {
      "cell_type": "code",
      "source": [
        "# Load the ELMo model from TensorFlow Hub\n",
        "\n",
        "elmo = hub.Module(\"https://tfhub.dev/google/elmo/2\", trainable=True)"
      ],
      "metadata": {
        "colab": {
          "base_uri": "https://localhost:8080/",
          "height": 328
        },
        "id": "YhkOGb9mpnLv",
        "outputId": "7026536d-6b1f-4c70-e075-6199e71cab19"
      },
      "execution_count": 10,
      "outputs": [
        {
          "output_type": "error",
          "ename": "RuntimeError",
          "evalue": "ignored",
          "traceback": [
            "\u001b[0;31m---------------------------------------------------------------------------\u001b[0m",
            "\u001b[0;31mRuntimeError\u001b[0m                              Traceback (most recent call last)",
            "\u001b[0;32m<ipython-input-10-5f0fe2c1b006>\u001b[0m in \u001b[0;36m<module>\u001b[0;34m\u001b[0m\n\u001b[1;32m      1\u001b[0m \u001b[0;31m# Load the ELMo model from TensorFlow Hub\u001b[0m\u001b[0;34m\u001b[0m\u001b[0;34m\u001b[0m\u001b[0;34m\u001b[0m\u001b[0m\n\u001b[0;32m----> 2\u001b[0;31m \u001b[0melmo\u001b[0m \u001b[0;34m=\u001b[0m \u001b[0mhub\u001b[0m\u001b[0;34m.\u001b[0m\u001b[0mModule\u001b[0m\u001b[0;34m(\u001b[0m\u001b[0;34m\"https://tfhub.dev/google/elmo/2\"\u001b[0m\u001b[0;34m)\u001b[0m\u001b[0;34m\u001b[0m\u001b[0;34m\u001b[0m\u001b[0m\n\u001b[0m",
            "\u001b[0;32m/usr/local/lib/python3.8/dist-packages/tensorflow_hub/module.py\u001b[0m in \u001b[0;36m__init__\u001b[0;34m(self, spec, trainable, name, tags)\u001b[0m\n\u001b[1;32m    163\u001b[0m       \u001b[0;32mraise\u001b[0m \u001b[0mValueError\u001b[0m\u001b[0;34m(\u001b[0m\u001b[0;34m\"No such graph variant: tags=%r\"\u001b[0m \u001b[0;34m%\u001b[0m \u001b[0mtags\u001b[0m\u001b[0;34m)\u001b[0m\u001b[0;34m\u001b[0m\u001b[0;34m\u001b[0m\u001b[0m\n\u001b[1;32m    164\u001b[0m \u001b[0;34m\u001b[0m\u001b[0m\n\u001b[0;32m--> 165\u001b[0;31m     \u001b[0mabs_state_scope\u001b[0m \u001b[0;34m=\u001b[0m \u001b[0m_try_get_state_scope\u001b[0m\u001b[0;34m(\u001b[0m\u001b[0mname\u001b[0m\u001b[0;34m,\u001b[0m \u001b[0mmark_name_scope_used\u001b[0m\u001b[0;34m=\u001b[0m\u001b[0;32mFalse\u001b[0m\u001b[0;34m)\u001b[0m\u001b[0;34m\u001b[0m\u001b[0;34m\u001b[0m\u001b[0m\n\u001b[0m\u001b[1;32m    166\u001b[0m     \u001b[0mself\u001b[0m\u001b[0;34m.\u001b[0m\u001b[0m_name\u001b[0m \u001b[0;34m=\u001b[0m \u001b[0mabs_state_scope\u001b[0m\u001b[0;34m.\u001b[0m\u001b[0msplit\u001b[0m\u001b[0;34m(\u001b[0m\u001b[0;34m\"/\"\u001b[0m\u001b[0;34m)\u001b[0m\u001b[0;34m[\u001b[0m\u001b[0;34m-\u001b[0m\u001b[0;36m2\u001b[0m\u001b[0;34m]\u001b[0m\u001b[0;34m\u001b[0m\u001b[0;34m\u001b[0m\u001b[0m\n\u001b[1;32m    167\u001b[0m \u001b[0;34m\u001b[0m\u001b[0m\n",
            "\u001b[0;32m/usr/local/lib/python3.8/dist-packages/tensorflow_hub/module.py\u001b[0m in \u001b[0;36m_try_get_state_scope\u001b[0;34m(name, mark_name_scope_used)\u001b[0m\n\u001b[1;32m    399\u001b[0m     \u001b[0munique_name_scope\u001b[0m \u001b[0;34m=\u001b[0m \u001b[0mgraph\u001b[0m\u001b[0;34m.\u001b[0m\u001b[0munique_name\u001b[0m\u001b[0;34m(\u001b[0m\u001b[0mname\u001b[0m\u001b[0;34m,\u001b[0m \u001b[0mmark_name_scope_used\u001b[0m\u001b[0;34m)\u001b[0m \u001b[0;34m+\u001b[0m \u001b[0;34m\"/\"\u001b[0m\u001b[0;34m\u001b[0m\u001b[0;34m\u001b[0m\u001b[0m\n\u001b[1;32m    400\u001b[0m     \u001b[0;32mif\u001b[0m \u001b[0munique_name_scope\u001b[0m \u001b[0;34m!=\u001b[0m \u001b[0mabs_state_scope\u001b[0m\u001b[0;34m:\u001b[0m\u001b[0;34m\u001b[0m\u001b[0;34m\u001b[0m\u001b[0m\n\u001b[0;32m--> 401\u001b[0;31m       raise RuntimeError(\n\u001b[0m\u001b[1;32m    402\u001b[0m           \u001b[0;34m\"variable_scope %s was unused but the corresponding \"\u001b[0m\u001b[0;34m\u001b[0m\u001b[0;34m\u001b[0m\u001b[0m\n\u001b[1;32m    403\u001b[0m           \"name_scope was already taken.\" % abs_state_scope)\n",
            "\u001b[0;31mRuntimeError\u001b[0m: variable_scope module_2/ was unused but the corresponding name_scope was already taken."
          ]
        }
      ]
    },
    {
      "cell_type": "markdown",
      "source": [
        "## ELMo Vectors\n",
        "Define function to compute ELMo vectors for given input text"
      ],
      "metadata": {
        "id": "Di5MEeBfqnyX"
      }
    },
    {
      "cell_type": "code",
      "source": [
        "# Define a function to compute ELMo vectors for a given input text\n",
        "def elmo_vectors(x):\n",
        "    emb = elmo(inputs={\n",
        "        \"tokens\": tf.squeeze(tf.cast(x, tf.string)),\n",
        "        \"sequence_len\": tf.constant(batch_size*[max_len])\n",
        "    },\n",
        "    signature=\"tokens\",\n",
        "    as_dict=True)[\"elmo\"]\n",
        "\n",
        "    return emb"
      ],
      "metadata": {
        "id": "G4-6FCbAqwwF"
      },
      "execution_count": null,
      "outputs": []
    },
    {
      "cell_type": "markdown",
      "source": [
        "## Input Text\n",
        "Define input text as a tensor"
      ],
      "metadata": {
        "id": "hEIoDx9Jqzsn"
      }
    },
    {
      "cell_type": "code",
      "source": [
        "# Define the input text as a tensor\n",
        "text_input = tf.placeholder(dtype=tf.string, shape=[batch_size, max_len])"
      ],
      "metadata": {
        "id": "7ymHxz23q39H"
      },
      "execution_count": null,
      "outputs": []
    },
    {
      "cell_type": "markdown",
      "source": [
        "## Compute ELMo Vectors\n",
        "Compute vectors for input text"
      ],
      "metadata": {
        "id": "cQwdWJ2Vq7HX"
      }
    },
    {
      "cell_type": "code",
      "source": [
        "# Compute ELMo vectors for the input text\n",
        "elmo_output = elmo_vectors(text_input)\n",
        "\n",
        "# Use the ELMo vectors as input to a downstream model, such as a classification model\n",
        "output = downstream_model(elmo_output)"
      ],
      "metadata": {
        "id": "_RZdmsNfrCOi"
      },
      "execution_count": null,
      "outputs": []
    }
  ]
}