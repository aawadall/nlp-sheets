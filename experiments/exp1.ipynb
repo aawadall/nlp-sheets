{
  "cells": [
    {
      "cell_type": "markdown",
      "metadata": {
        "id": "jm6UT-3OL2C8"
      },
      "source": [
        "# NLP Experiment 1: Word Embeddings\n",
        "Experimenting With NLP using NLTK and Word Embeddings"
      ]
    },
    {
      "cell_type": "markdown",
      "source": [
        "## Load Required Libraries\n",
        "Load libraries expected for this experiment:\n",
        "\n",
        "- [ ] nltk \n",
        "- [ ] nltk.word_tokenize \n",
        "- [ ] spacy.lang.en.English \n",
        "- [ ] gensim \n",
        "- [ ] numpy "
      ],
      "metadata": {
        "id": "ykFUpKXZL8I2"
      }
    },
    {
      "cell_type": "code",
      "source": [
        "import nltk\n",
        "from nltk import word_tokenize \n",
        "from spacy.lang.en import English \n"
      ],
      "metadata": {
        "id": "SKF750bGMsAw"
      },
      "execution_count": 1,
      "outputs": []
    },
    {
      "cell_type": "code",
      "source": [
        "!pip install --upgrade gensim"
      ],
      "metadata": {
        "id": "KJ1IWUONNCog",
        "outputId": "814240eb-d712-4d52-c9ac-f04ff1c1c99b",
        "colab": {
          "base_uri": "https://localhost:8080/"
        }
      },
      "execution_count": 2,
      "outputs": [
        {
          "output_type": "stream",
          "name": "stdout",
          "text": [
            "Looking in indexes: https://pypi.org/simple, https://us-python.pkg.dev/colab-wheels/public/simple/\n",
            "Requirement already satisfied: gensim in /usr/local/lib/python3.7/dist-packages (3.6.0)\n",
            "Collecting gensim\n",
            "  Downloading gensim-4.2.0-cp37-cp37m-manylinux_2_12_x86_64.manylinux2010_x86_64.whl (24.1 MB)\n",
            "\u001b[K     |████████████████████████████████| 24.1 MB 1.6 MB/s \n",
            "\u001b[?25hRequirement already satisfied: smart-open>=1.8.1 in /usr/local/lib/python3.7/dist-packages (from gensim) (5.2.1)\n",
            "Requirement already satisfied: numpy>=1.17.0 in /usr/local/lib/python3.7/dist-packages (from gensim) (1.21.6)\n",
            "Requirement already satisfied: scipy>=0.18.1 in /usr/local/lib/python3.7/dist-packages (from gensim) (1.7.3)\n",
            "Installing collected packages: gensim\n",
            "  Attempting uninstall: gensim\n",
            "    Found existing installation: gensim 3.6.0\n",
            "    Uninstalling gensim-3.6.0:\n",
            "      Successfully uninstalled gensim-3.6.0\n",
            "Successfully installed gensim-4.2.0\n"
          ]
        }
      ]
    },
    {
      "cell_type": "code",
      "source": [
        "import gensim.downloader as api \n",
        "import numpy as np "
      ],
      "metadata": {
        "id": "QNuXdyEZNIxX"
      },
      "execution_count": 3,
      "outputs": []
    },
    {
      "cell_type": "markdown",
      "source": [
        "Download word2vec, this may take some time "
      ],
      "metadata": {
        "id": "BtuwFbKfNRJN"
      }
    },
    {
      "cell_type": "code",
      "source": [
        "wv = api.load('word2vec-google-news-300')"
      ],
      "metadata": {
        "id": "5gtUk2djNV1S",
        "outputId": "d7660711-208d-4583-8322-61fba15dde85",
        "colab": {
          "base_uri": "https://localhost:8080/"
        }
      },
      "execution_count": null,
      "outputs": [
        {
          "output_type": "stream",
          "name": "stdout",
          "text": [
            "[==================--------------------------------] 38.0% 631.4/1662.8MB downloaded"
          ]
        }
      ]
    },
    {
      "cell_type": "markdown",
      "source": [
        "## Define Sample Text\n",
        "define a couple of sample text strings and run some analysis"
      ],
      "metadata": {
        "id": "WuQiR4m_NjEf"
      }
    },
    {
      "cell_type": "code",
      "source": [
        "simple_str = \"This is a simple string, used to test tokenization. It may have minimal information in it, but used to illustrate how to extract word embeddings\"\n",
        "strings_vector = [\n",
        "    \"Patiance is a virtue\",\n",
        "    \"The sum of one and two is three\",\n",
        "    \"better safe than sorry\",\n",
        "    \"you cannot divide a number by zero\",\n",
        "    \"are we there yet?\"\n",
        "]"
      ],
      "metadata": {
        "id": "NktwZiktNseA"
      },
      "execution_count": null,
      "outputs": []
    }
  ],
  "metadata": {
    "language_info": {
      "name": "python"
    },
    "orig_nbformat": 4,
    "colab": {
      "provenance": []
    },
    "kernelspec": {
      "name": "python3",
      "display_name": "Python 3"
    },
    "gpuClass": "standard"
  },
  "nbformat": 4,
  "nbformat_minor": 0
}