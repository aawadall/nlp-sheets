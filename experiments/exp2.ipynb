{
  "cells": [
    {
      "cell_type": "markdown",
      "metadata": {
        "id": "phSQZFN8_Vc3"
      },
      "source": [
        "# NLP Experiment 2 - Tensorflow\n",
        "Experiment with Tensorflow basic operations \n",
        "follow along [FreeCodeCamp's Course](https://www.youtube.com/watch?v=tPYj3fFJGjk)"
      ]
    },
    {
      "cell_type": "markdown",
      "source": [
        "## Module 1 - Introduction"
      ],
      "metadata": {
        "id": "15sfK7Jd_tpn"
      }
    },
    {
      "cell_type": "markdown",
      "source": [
        "### Install TF\n",
        "for local environment, we need to run\n",
        "\n",
        "\n",
        "```\n",
        "!pip install --upgrade tensorflow\n",
        "```\n",
        "\n",
        "for colab \n",
        "```\n",
        "%tensorflow_version 2.x\n",
        "```\n"
      ],
      "metadata": {
        "id": "U9_29vmhGgyX"
      }
    },
    {
      "cell_type": "code",
      "source": [
        "#@title Select environment\n",
        "environment = \"collab\" #@param [\"collab\", \"local\"]\n",
        "\n"
      ],
      "metadata": {
        "id": "vZ3jxX_hGjKW"
      },
      "execution_count": 18,
      "outputs": []
    },
    {
      "cell_type": "code",
      "source": [
        "if environment == 'collab':\n",
        "  %tensorflow_version 2.x\n",
        "elif environment == 'local':\n",
        "  !pip install --upgrade tensorflow \n",
        "  "
      ],
      "metadata": {
        "colab": {
          "base_uri": "https://localhost:8080/"
        },
        "id": "mJk4_Y59H8v3",
        "outputId": "341613f3-44fa-4f17-cca4-819f42529a68"
      },
      "execution_count": 19,
      "outputs": [
        {
          "output_type": "stream",
          "name": "stdout",
          "text": [
            "Colab only includes TensorFlow 2.x; %tensorflow_version has no effect.\n"
          ]
        }
      ]
    },
    {
      "cell_type": "markdown",
      "source": [
        "Now we import tensorflow as tf and check version"
      ],
      "metadata": {
        "id": "o0-JLNK_IbCj"
      }
    },
    {
      "cell_type": "code",
      "source": [
        "import tensorflow as tf \n",
        "print(tf.version)"
      ],
      "metadata": {
        "colab": {
          "base_uri": "https://localhost:8080/"
        },
        "id": "vv_IPaPJIBdO",
        "outputId": "01c1aab6-1a52-4c6f-a561-8fecde6885ef"
      },
      "execution_count": 20,
      "outputs": [
        {
          "output_type": "stream",
          "name": "stdout",
          "text": [
            "<module 'tensorflow._api.v2.version' from '/usr/local/lib/python3.8/dist-packages/tensorflow/_api/v2/version/__init__.py'>\n"
          ]
        }
      ]
    },
    {
      "cell_type": "markdown",
      "source": [
        "### Create Tensors \n",
        "create three tensors of three datatypes \n",
        "* string \n",
        "* number \n",
        "* float "
      ],
      "metadata": {
        "id": "Neek4HlwI54Z"
      }
    },
    {
      "cell_type": "code",
      "source": [
        "str_tensor = tf.Variable(\"string tensor\", tf.string)\n",
        "num_tensor = tf.Variable(42, tf.int16)\n",
        "float_tensor = tf.Variable(3.14159, tf.float64)"
      ],
      "metadata": {
        "id": "D7i2i8haJR68"
      },
      "execution_count": 21,
      "outputs": []
    },
    {
      "cell_type": "markdown",
      "source": [
        "### Rank/Degree\n",
        "check rank/degree of tensors"
      ],
      "metadata": {
        "id": "3LgaLW_WJ7Kc"
      }
    },
    {
      "cell_type": "code",
      "source": [
        "rank1_tensor = tf.Variable([\"The\", \"quick\", \"brown\", \"fox\"], tf.string)\n",
        "rank2_tensor = tf.Variable([[\"this\", \"is\", \"a\", \"sentence\"],[\"the\", \"other\", \"sentence\", \"follows\"]], tf.string)"
      ],
      "metadata": {
        "id": "9BKRnLNRKC0F"
      },
      "execution_count": 22,
      "outputs": []
    },
    {
      "cell_type": "markdown",
      "source": [
        "let us check its ranks"
      ],
      "metadata": {
        "id": "LbZHhQZRKmU5"
      }
    },
    {
      "cell_type": "code",
      "source": [
        "ranks_vec = []\n",
        "ranks_vec.append(tf.rank(str_tensor))\n",
        "ranks_vec.append(tf.rank(rank1_tensor))\n",
        "ranks_vec.append(tf.rank(rank2_tensor))\n",
        "\n",
        "# print \n",
        "ranks_vec"
      ],
      "metadata": {
        "colab": {
          "base_uri": "https://localhost:8080/"
        },
        "id": "HuqL5M0pKqHw",
        "outputId": "b9f42e66-c6ea-48ea-b6af-b4f09db2f154"
      },
      "execution_count": 23,
      "outputs": [
        {
          "output_type": "execute_result",
          "data": {
            "text/plain": [
              "[<tf.Tensor: shape=(), dtype=int32, numpy=0>,\n",
              " <tf.Tensor: shape=(), dtype=int32, numpy=1>,\n",
              " <tf.Tensor: shape=(), dtype=int32, numpy=2>]"
            ]
          },
          "metadata": {},
          "execution_count": 23
        }
      ]
    },
    {
      "cell_type": "markdown",
      "source": [
        "check shapes"
      ],
      "metadata": {
        "id": "QSN6m70-Lwr8"
      }
    },
    {
      "cell_type": "code",
      "source": [
        "tensor1 = tf.ones([1,2,3])\n",
        "print(tensor1)\n",
        "tensor2 = tf.reshape(tensor1, [2,3,1])\n",
        "tensor3 = tf.reshape(tensor2, [3, -1])"
      ],
      "metadata": {
        "colab": {
          "base_uri": "https://localhost:8080/"
        },
        "id": "WlCefGojLzM7",
        "outputId": "96baf64f-210a-4b84-b4c6-a4f9f20890b3"
      },
      "execution_count": 25,
      "outputs": [
        {
          "output_type": "stream",
          "name": "stdout",
          "text": [
            "tf.Tensor(\n",
            "[[[1. 1. 1.]\n",
            "  [1. 1. 1.]]], shape=(1, 2, 3), dtype=float32)\n"
          ]
        }
      ]
    },
    {
      "cell_type": "code",
      "source": [
        "print(tensor1)\n",
        "print(tensor2)\n",
        "print(tensor3)"
      ],
      "metadata": {
        "colab": {
          "base_uri": "https://localhost:8080/"
        },
        "id": "uUc8E9HBfs5D",
        "outputId": "c873f5af-93b9-4e7c-bd43-0d287bc87d55"
      },
      "execution_count": 26,
      "outputs": [
        {
          "output_type": "stream",
          "name": "stdout",
          "text": [
            "tf.Tensor(\n",
            "[[[1. 1. 1.]\n",
            "  [1. 1. 1.]]], shape=(1, 2, 3), dtype=float32)\n",
            "tf.Tensor(\n",
            "[[[1.]\n",
            "  [1.]\n",
            "  [1.]]\n",
            "\n",
            " [[1.]\n",
            "  [1.]\n",
            "  [1.]]], shape=(2, 3, 1), dtype=float32)\n",
            "tf.Tensor(\n",
            "[[1. 1.]\n",
            " [1. 1.]\n",
            " [1. 1.]], shape=(3, 2), dtype=float32)\n"
          ]
        }
      ]
    },
    {
      "cell_type": "markdown",
      "source": [
        "### Toy example"
      ],
      "metadata": {
        "id": "TJ8d4nYYhZ5z"
      }
    },
    {
      "cell_type": "code",
      "source": [
        "t = tf.zeros([5,5,5,5])\n",
        "print(t)\n",
        "t = tf.reshape(t, [25, -1])\n",
        "print(t)"
      ],
      "metadata": {
        "colab": {
          "base_uri": "https://localhost:8080/"
        },
        "id": "Gt4UZC9AhcM6",
        "outputId": "9e1a99cc-c8e6-4358-e092-c207b3f17a7b"
      },
      "execution_count": 34,
      "outputs": [
        {
          "output_type": "stream",
          "name": "stdout",
          "text": [
            "tf.Tensor(\n",
            "[[[[0. 0. 0. 0. 0.]\n",
            "   [0. 0. 0. 0. 0.]\n",
            "   [0. 0. 0. 0. 0.]\n",
            "   [0. 0. 0. 0. 0.]\n",
            "   [0. 0. 0. 0. 0.]]\n",
            "\n",
            "  [[0. 0. 0. 0. 0.]\n",
            "   [0. 0. 0. 0. 0.]\n",
            "   [0. 0. 0. 0. 0.]\n",
            "   [0. 0. 0. 0. 0.]\n",
            "   [0. 0. 0. 0. 0.]]\n",
            "\n",
            "  [[0. 0. 0. 0. 0.]\n",
            "   [0. 0. 0. 0. 0.]\n",
            "   [0. 0. 0. 0. 0.]\n",
            "   [0. 0. 0. 0. 0.]\n",
            "   [0. 0. 0. 0. 0.]]\n",
            "\n",
            "  [[0. 0. 0. 0. 0.]\n",
            "   [0. 0. 0. 0. 0.]\n",
            "   [0. 0. 0. 0. 0.]\n",
            "   [0. 0. 0. 0. 0.]\n",
            "   [0. 0. 0. 0. 0.]]\n",
            "\n",
            "  [[0. 0. 0. 0. 0.]\n",
            "   [0. 0. 0. 0. 0.]\n",
            "   [0. 0. 0. 0. 0.]\n",
            "   [0. 0. 0. 0. 0.]\n",
            "   [0. 0. 0. 0. 0.]]]\n",
            "\n",
            "\n",
            " [[[0. 0. 0. 0. 0.]\n",
            "   [0. 0. 0. 0. 0.]\n",
            "   [0. 0. 0. 0. 0.]\n",
            "   [0. 0. 0. 0. 0.]\n",
            "   [0. 0. 0. 0. 0.]]\n",
            "\n",
            "  [[0. 0. 0. 0. 0.]\n",
            "   [0. 0. 0. 0. 0.]\n",
            "   [0. 0. 0. 0. 0.]\n",
            "   [0. 0. 0. 0. 0.]\n",
            "   [0. 0. 0. 0. 0.]]\n",
            "\n",
            "  [[0. 0. 0. 0. 0.]\n",
            "   [0. 0. 0. 0. 0.]\n",
            "   [0. 0. 0. 0. 0.]\n",
            "   [0. 0. 0. 0. 0.]\n",
            "   [0. 0. 0. 0. 0.]]\n",
            "\n",
            "  [[0. 0. 0. 0. 0.]\n",
            "   [0. 0. 0. 0. 0.]\n",
            "   [0. 0. 0. 0. 0.]\n",
            "   [0. 0. 0. 0. 0.]\n",
            "   [0. 0. 0. 0. 0.]]\n",
            "\n",
            "  [[0. 0. 0. 0. 0.]\n",
            "   [0. 0. 0. 0. 0.]\n",
            "   [0. 0. 0. 0. 0.]\n",
            "   [0. 0. 0. 0. 0.]\n",
            "   [0. 0. 0. 0. 0.]]]\n",
            "\n",
            "\n",
            " [[[0. 0. 0. 0. 0.]\n",
            "   [0. 0. 0. 0. 0.]\n",
            "   [0. 0. 0. 0. 0.]\n",
            "   [0. 0. 0. 0. 0.]\n",
            "   [0. 0. 0. 0. 0.]]\n",
            "\n",
            "  [[0. 0. 0. 0. 0.]\n",
            "   [0. 0. 0. 0. 0.]\n",
            "   [0. 0. 0. 0. 0.]\n",
            "   [0. 0. 0. 0. 0.]\n",
            "   [0. 0. 0. 0. 0.]]\n",
            "\n",
            "  [[0. 0. 0. 0. 0.]\n",
            "   [0. 0. 0. 0. 0.]\n",
            "   [0. 0. 0. 0. 0.]\n",
            "   [0. 0. 0. 0. 0.]\n",
            "   [0. 0. 0. 0. 0.]]\n",
            "\n",
            "  [[0. 0. 0. 0. 0.]\n",
            "   [0. 0. 0. 0. 0.]\n",
            "   [0. 0. 0. 0. 0.]\n",
            "   [0. 0. 0. 0. 0.]\n",
            "   [0. 0. 0. 0. 0.]]\n",
            "\n",
            "  [[0. 0. 0. 0. 0.]\n",
            "   [0. 0. 0. 0. 0.]\n",
            "   [0. 0. 0. 0. 0.]\n",
            "   [0. 0. 0. 0. 0.]\n",
            "   [0. 0. 0. 0. 0.]]]\n",
            "\n",
            "\n",
            " [[[0. 0. 0. 0. 0.]\n",
            "   [0. 0. 0. 0. 0.]\n",
            "   [0. 0. 0. 0. 0.]\n",
            "   [0. 0. 0. 0. 0.]\n",
            "   [0. 0. 0. 0. 0.]]\n",
            "\n",
            "  [[0. 0. 0. 0. 0.]\n",
            "   [0. 0. 0. 0. 0.]\n",
            "   [0. 0. 0. 0. 0.]\n",
            "   [0. 0. 0. 0. 0.]\n",
            "   [0. 0. 0. 0. 0.]]\n",
            "\n",
            "  [[0. 0. 0. 0. 0.]\n",
            "   [0. 0. 0. 0. 0.]\n",
            "   [0. 0. 0. 0. 0.]\n",
            "   [0. 0. 0. 0. 0.]\n",
            "   [0. 0. 0. 0. 0.]]\n",
            "\n",
            "  [[0. 0. 0. 0. 0.]\n",
            "   [0. 0. 0. 0. 0.]\n",
            "   [0. 0. 0. 0. 0.]\n",
            "   [0. 0. 0. 0. 0.]\n",
            "   [0. 0. 0. 0. 0.]]\n",
            "\n",
            "  [[0. 0. 0. 0. 0.]\n",
            "   [0. 0. 0. 0. 0.]\n",
            "   [0. 0. 0. 0. 0.]\n",
            "   [0. 0. 0. 0. 0.]\n",
            "   [0. 0. 0. 0. 0.]]]\n",
            "\n",
            "\n",
            " [[[0. 0. 0. 0. 0.]\n",
            "   [0. 0. 0. 0. 0.]\n",
            "   [0. 0. 0. 0. 0.]\n",
            "   [0. 0. 0. 0. 0.]\n",
            "   [0. 0. 0. 0. 0.]]\n",
            "\n",
            "  [[0. 0. 0. 0. 0.]\n",
            "   [0. 0. 0. 0. 0.]\n",
            "   [0. 0. 0. 0. 0.]\n",
            "   [0. 0. 0. 0. 0.]\n",
            "   [0. 0. 0. 0. 0.]]\n",
            "\n",
            "  [[0. 0. 0. 0. 0.]\n",
            "   [0. 0. 0. 0. 0.]\n",
            "   [0. 0. 0. 0. 0.]\n",
            "   [0. 0. 0. 0. 0.]\n",
            "   [0. 0. 0. 0. 0.]]\n",
            "\n",
            "  [[0. 0. 0. 0. 0.]\n",
            "   [0. 0. 0. 0. 0.]\n",
            "   [0. 0. 0. 0. 0.]\n",
            "   [0. 0. 0. 0. 0.]\n",
            "   [0. 0. 0. 0. 0.]]\n",
            "\n",
            "  [[0. 0. 0. 0. 0.]\n",
            "   [0. 0. 0. 0. 0.]\n",
            "   [0. 0. 0. 0. 0.]\n",
            "   [0. 0. 0. 0. 0.]\n",
            "   [0. 0. 0. 0. 0.]]]], shape=(5, 5, 5, 5), dtype=float32)\n",
            "tf.Tensor(\n",
            "[[0. 0. 0. 0. 0. 0. 0. 0. 0. 0. 0. 0. 0. 0. 0. 0. 0. 0. 0. 0. 0. 0. 0. 0.\n",
            "  0.]\n",
            " [0. 0. 0. 0. 0. 0. 0. 0. 0. 0. 0. 0. 0. 0. 0. 0. 0. 0. 0. 0. 0. 0. 0. 0.\n",
            "  0.]\n",
            " [0. 0. 0. 0. 0. 0. 0. 0. 0. 0. 0. 0. 0. 0. 0. 0. 0. 0. 0. 0. 0. 0. 0. 0.\n",
            "  0.]\n",
            " [0. 0. 0. 0. 0. 0. 0. 0. 0. 0. 0. 0. 0. 0. 0. 0. 0. 0. 0. 0. 0. 0. 0. 0.\n",
            "  0.]\n",
            " [0. 0. 0. 0. 0. 0. 0. 0. 0. 0. 0. 0. 0. 0. 0. 0. 0. 0. 0. 0. 0. 0. 0. 0.\n",
            "  0.]\n",
            " [0. 0. 0. 0. 0. 0. 0. 0. 0. 0. 0. 0. 0. 0. 0. 0. 0. 0. 0. 0. 0. 0. 0. 0.\n",
            "  0.]\n",
            " [0. 0. 0. 0. 0. 0. 0. 0. 0. 0. 0. 0. 0. 0. 0. 0. 0. 0. 0. 0. 0. 0. 0. 0.\n",
            "  0.]\n",
            " [0. 0. 0. 0. 0. 0. 0. 0. 0. 0. 0. 0. 0. 0. 0. 0. 0. 0. 0. 0. 0. 0. 0. 0.\n",
            "  0.]\n",
            " [0. 0. 0. 0. 0. 0. 0. 0. 0. 0. 0. 0. 0. 0. 0. 0. 0. 0. 0. 0. 0. 0. 0. 0.\n",
            "  0.]\n",
            " [0. 0. 0. 0. 0. 0. 0. 0. 0. 0. 0. 0. 0. 0. 0. 0. 0. 0. 0. 0. 0. 0. 0. 0.\n",
            "  0.]\n",
            " [0. 0. 0. 0. 0. 0. 0. 0. 0. 0. 0. 0. 0. 0. 0. 0. 0. 0. 0. 0. 0. 0. 0. 0.\n",
            "  0.]\n",
            " [0. 0. 0. 0. 0. 0. 0. 0. 0. 0. 0. 0. 0. 0. 0. 0. 0. 0. 0. 0. 0. 0. 0. 0.\n",
            "  0.]\n",
            " [0. 0. 0. 0. 0. 0. 0. 0. 0. 0. 0. 0. 0. 0. 0. 0. 0. 0. 0. 0. 0. 0. 0. 0.\n",
            "  0.]\n",
            " [0. 0. 0. 0. 0. 0. 0. 0. 0. 0. 0. 0. 0. 0. 0. 0. 0. 0. 0. 0. 0. 0. 0. 0.\n",
            "  0.]\n",
            " [0. 0. 0. 0. 0. 0. 0. 0. 0. 0. 0. 0. 0. 0. 0. 0. 0. 0. 0. 0. 0. 0. 0. 0.\n",
            "  0.]\n",
            " [0. 0. 0. 0. 0. 0. 0. 0. 0. 0. 0. 0. 0. 0. 0. 0. 0. 0. 0. 0. 0. 0. 0. 0.\n",
            "  0.]\n",
            " [0. 0. 0. 0. 0. 0. 0. 0. 0. 0. 0. 0. 0. 0. 0. 0. 0. 0. 0. 0. 0. 0. 0. 0.\n",
            "  0.]\n",
            " [0. 0. 0. 0. 0. 0. 0. 0. 0. 0. 0. 0. 0. 0. 0. 0. 0. 0. 0. 0. 0. 0. 0. 0.\n",
            "  0.]\n",
            " [0. 0. 0. 0. 0. 0. 0. 0. 0. 0. 0. 0. 0. 0. 0. 0. 0. 0. 0. 0. 0. 0. 0. 0.\n",
            "  0.]\n",
            " [0. 0. 0. 0. 0. 0. 0. 0. 0. 0. 0. 0. 0. 0. 0. 0. 0. 0. 0. 0. 0. 0. 0. 0.\n",
            "  0.]\n",
            " [0. 0. 0. 0. 0. 0. 0. 0. 0. 0. 0. 0. 0. 0. 0. 0. 0. 0. 0. 0. 0. 0. 0. 0.\n",
            "  0.]\n",
            " [0. 0. 0. 0. 0. 0. 0. 0. 0. 0. 0. 0. 0. 0. 0. 0. 0. 0. 0. 0. 0. 0. 0. 0.\n",
            "  0.]\n",
            " [0. 0. 0. 0. 0. 0. 0. 0. 0. 0. 0. 0. 0. 0. 0. 0. 0. 0. 0. 0. 0. 0. 0. 0.\n",
            "  0.]\n",
            " [0. 0. 0. 0. 0. 0. 0. 0. 0. 0. 0. 0. 0. 0. 0. 0. 0. 0. 0. 0. 0. 0. 0. 0.\n",
            "  0.]\n",
            " [0. 0. 0. 0. 0. 0. 0. 0. 0. 0. 0. 0. 0. 0. 0. 0. 0. 0. 0. 0. 0. 0. 0. 0.\n",
            "  0.]], shape=(25, 25), dtype=float32)\n"
          ]
        }
      ]
    },
    {
      "cell_type": "markdown",
      "source": [
        "## Module 3 - Learning Algo\n",
        "* [ ] Linear Regression \n",
        "* [ ] Classification \n",
        "* [ ] Clustering \n",
        "* [ ] HMM\n"
      ],
      "metadata": {
        "id": "0nIvV2w3iJ9z"
      }
    },
    {
      "cell_type": "markdown",
      "source": [
        "### Linear Regression"
      ],
      "metadata": {
        "id": "-xegPOdslbGk"
      }
    },
    {
      "cell_type": "code",
      "source": [
        "import matplotlib.pyplot as plt\n",
        "import numpy as np\n",
        "\n",
        "x = [1, 2, 2.5, 3, 4]\n",
        "y = [1, 4, 7, 9, 15]\n",
        "\n",
        "plt.plot(x, y, 'ro')\n",
        "plt.axis([0, 6, 0, 20])"
      ],
      "metadata": {
        "colab": {
          "base_uri": "https://localhost:8080/",
          "height": 286
        },
        "id": "6C-MptjYiOkj",
        "outputId": "44cd2383-eacf-49ce-9810-58098703cf61"
      },
      "execution_count": 35,
      "outputs": [
        {
          "output_type": "execute_result",
          "data": {
            "text/plain": [
              "(0.0, 6.0, 0.0, 20.0)"
            ]
          },
          "metadata": {},
          "execution_count": 35
        },
        {
          "output_type": "display_data",
          "data": {
            "text/plain": [
              "<Figure size 432x288 with 1 Axes>"
            ],
            "image/png": "[encoded data removed]"
          },
          "metadata": {
            "needs_background": "light"
          }
        }
      ]
    },
    {
      "cell_type": "markdown",
      "source": [
        "Install sklearn"
      ],
      "metadata": {
        "id": "tU6s0D6qmoe-"
      }
    },
    {
      "cell_type": "code",
      "source": [
        "!pip install -q sklearn"
      ],
      "metadata": {
        "colab": {
          "base_uri": "https://localhost:8080/"
        },
        "id": "CSDB17U7mqgR",
        "outputId": "1a0df809-f313-4c21-ae00-c1b1e7847af4"
      },
      "execution_count": 36,
      "outputs": [
        {
          "output_type": "stream",
          "name": "stdout",
          "text": [
            "  Building wheel for sklearn (setup.py) ... \u001b[?25l\u001b[?25hdone\n"
          ]
        }
      ]
    },
    {
      "cell_type": "code",
      "source": [
        "from __future__ import absolute_import, division, print_function, unicode_literals\n",
        "\n",
        "import numpy as np\n",
        "import pandas as pd\n",
        "from IPython.display import clear_output\n",
        "from six.moves import urllib\n",
        "\n",
        "import tensorflow.compat.v2.feature_column as fc \n"
      ],
      "metadata": {
        "id": "iyM9owOumvS1"
      },
      "execution_count": 37,
      "outputs": []
    },
    {
      "cell_type": "markdown",
      "source": [
        "Load dataset "
      ],
      "metadata": {
        "id": "zhWmQRb2noV8"
      }
    },
    {
      "cell_type": "code",
      "source": [
        "dftrain = pd.read_csv('https://storage.googleapis.com/tf-datasets/titanic/train.csv')\n",
        "dfeval = pd.read_csv('https://storage.googleapis.com/tf-datasets/titanic/eval.csv')\n",
        "print(dftrain.head())\n",
        "y_train = dftrain.pop('survived')\n",
        "y_eval = dfeval.pop('survived')\n",
        "print(dftrain.head())"
      ],
      "metadata": {
        "colab": {
          "base_uri": "https://localhost:8080/"
        },
        "id": "RjVWhylPnprO",
        "outputId": "3b51d178-2871-481d-871f-42d0a0a58dea"
      },
      "execution_count": 41,
      "outputs": [
        {
          "output_type": "stream",
          "name": "stdout",
          "text": [
            "   survived     sex   age  n_siblings_spouses  parch     fare  class     deck  \\\n",
            "0         0    male  22.0                   1      0   7.2500  Third  unknown   \n",
            "1         1  female  38.0                   1      0  71.2833  First        C   \n",
            "2         1  female  26.0                   0      0   7.9250  Third  unknown   \n",
            "3         1  female  35.0                   1      0  53.1000  First        C   \n",
            "4         0    male  28.0                   0      0   8.4583  Third  unknown   \n",
            "\n",
            "   embark_town alone  \n",
            "0  Southampton     n  \n",
            "1    Cherbourg     n  \n",
            "2  Southampton     y  \n",
            "3  Southampton     n  \n",
            "4   Queenstown     y  \n",
            "      sex   age  n_siblings_spouses  parch     fare  class     deck  \\\n",
            "0    male  22.0                   1      0   7.2500  Third  unknown   \n",
            "1  female  38.0                   1      0  71.2833  First        C   \n",
            "2  female  26.0                   0      0   7.9250  Third  unknown   \n",
            "3  female  35.0                   1      0  53.1000  First        C   \n",
            "4    male  28.0                   0      0   8.4583  Third  unknown   \n",
            "\n",
            "   embark_town alone  \n",
            "0  Southampton     n  \n",
            "1    Cherbourg     n  \n",
            "2  Southampton     y  \n",
            "3  Southampton     n  \n",
            "4   Queenstown     y  \n"
          ]
        }
      ]
    },
    {
      "cell_type": "code",
      "source": [
        "dftrain.age.hist(bins=20)"
      ],
      "metadata": {
        "colab": {
          "base_uri": "https://localhost:8080/",
          "height": 282
        },
        "id": "vbgPcoY0qOJl",
        "outputId": "a102634a-848c-4a99-bc1e-37a457b5f32b"
      },
      "execution_count": 44,
      "outputs": [
        {
          "output_type": "execute_result",
          "data": {
            "text/plain": [
              "<matplotlib.axes._subplots.AxesSubplot at 0x7f4c3546a400>"
            ]
          },
          "metadata": {},
          "execution_count": 44
        },
        {
          "output_type": "display_data",
          "data": {
            "text/plain": [
              "<Figure size 432x288 with 1 Axes>"
            ],
            "image/png": "[encoded data removed]"
          },
          "metadata": {
            "needs_background": "light"
          }
        }
      ]
    },
    {
      "cell_type": "code",
      "source": [
        "CATEGORICAL_COLUMNS = ['sex', 'n_siblings_spouses', 'parch', 'class', 'deck', 'embark_town', 'alone']\n",
        "NUMERIC_COLUMNS = ['age', 'fare']\n"
      ],
      "metadata": {
        "id": "yUpVTpnVrPuu"
      },
      "execution_count": 45,
      "outputs": []
    },
    {
      "cell_type": "markdown",
      "source": [
        "#### Define Features \n",
        "using TF, create features "
      ],
      "metadata": {
        "id": "MrzjjKhiskTs"
      }
    },
    {
      "cell_type": "code",
      "source": [
        "from tensorflow.python.feature_column import feature_column\n",
        "feature_columns = []\n",
        "\n",
        "for feature_name in CATEGORICAL_COLUMNS:\n",
        "  vocabulary = dftrain[feature_name].unique() # gets a list of all unique values from a column \n",
        "  feature_columns.append(tf.feature_column.categorical_column_with_vocabulary_list(feature_name, vocabulary))\n",
        "\n",
        "for feature_name in NUMERIC_COLUMNS:\n",
        "  feature_columns.append(tf.feature_column.numeric_column(feature_name, dtype=tf.float32))\n",
        "\n",
        "print(feature_columns)"
      ],
      "metadata": {
        "colab": {
          "base_uri": "https://localhost:8080/"
        },
        "id": "5-k8tpZbrjh-",
        "outputId": "d5abeb2d-9f9d-45d0-84d0-24b444c4aeb2"
      },
      "execution_count": 46,
      "outputs": [
        {
          "output_type": "stream",
          "name": "stdout",
          "text": [
            "[VocabularyListCategoricalColumn(key='sex', vocabulary_list=('male', 'female'), dtype=tf.string, default_value=-1, num_oov_buckets=0), VocabularyListCategoricalColumn(key='n_siblings_spouses', vocabulary_list=(1, 0, 3, 4, 2, 5, 8), dtype=tf.int64, default_value=-1, num_oov_buckets=0), VocabularyListCategoricalColumn(key='parch', vocabulary_list=(0, 1, 2, 5, 3, 4), dtype=tf.int64, default_value=-1, num_oov_buckets=0), VocabularyListCategoricalColumn(key='class', vocabulary_list=('Third', 'First', 'Second'), dtype=tf.string, default_value=-1, num_oov_buckets=0), VocabularyListCategoricalColumn(key='deck', vocabulary_list=('unknown', 'C', 'G', 'A', 'B', 'D', 'F', 'E'), dtype=tf.string, default_value=-1, num_oov_buckets=0), VocabularyListCategoricalColumn(key='embark_town', vocabulary_list=('Southampton', 'Cherbourg', 'Queenstown', 'unknown'), dtype=tf.string, default_value=-1, num_oov_buckets=0), VocabularyListCategoricalColumn(key='alone', vocabulary_list=('n', 'y'), dtype=tf.string, default_value=-1, num_oov_buckets=0), NumericColumn(key='age', shape=(1,), default_value=None, dtype=tf.float32, normalizer_fn=None), NumericColumn(key='fare', shape=(1,), default_value=None, dtype=tf.float32, normalizer_fn=None)]\n"
          ]
        }
      ]
    },
    {
      "cell_type": "markdown",
      "source": [
        "#### Training Process"
      ],
      "metadata": {
        "id": "3utmQ8O3uBaY"
      }
    },
    {
      "cell_type": "markdown",
      "source": [
        "##### Input Function\n",
        "Define input function "
      ],
      "metadata": {
        "id": "0A0mEtQkzGvb"
      }
    },
    {
      "cell_type": "code",
      "source": [
        "# input function factory \n",
        "def make_input_fn(data_df, label_df, num_epochs=10, shuffle=True, batch_size=32):\n",
        "  \"\"\"Make input function and return\"\"\"\n",
        "  # function to be returned\n",
        "  def input_function():\n",
        "    # create tf.data.Dataset object \n",
        "    ds = tf.data.Dataset.from_tensor_slices((dict(data_df), label_df))\n",
        "\n",
        "    # if shuffle set to true, shuffle data\n",
        "    if shuffle:\n",
        "      ds = ds.shuffle(1000) # not sure what this 1000, is it a seed?\n",
        "    \n",
        "    # split data into batches and repeat into epochs\n",
        "    ds = ds.batch(batch_size).repeat(num_epochs)\n",
        "    \n",
        "    # return dataset \n",
        "    return ds \n",
        "\n",
        "  # return input function \n",
        "  return input_function "
      ],
      "metadata": {
        "id": "Xne0SNa4uNx1"
      },
      "execution_count": 55,
      "outputs": []
    },
    {
      "cell_type": "markdown",
      "source": [
        "Prepare input functions for training and evaluation "
      ],
      "metadata": {
        "id": "uVaq77DP0ZE7"
      }
    },
    {
      "cell_type": "code",
      "source": [
        "train_input_fn = make_input_fn(dftrain, y_train)\n",
        "eval_input_fn = make_input_fn(dfeval, y_eval, num_epochs=1, shuffle=False)"
      ],
      "metadata": {
        "id": "_b98zO-o0di2"
      },
      "execution_count": 56,
      "outputs": []
    },
    {
      "cell_type": "markdown",
      "source": [
        "##### Create Model"
      ],
      "metadata": {
        "id": "NggC2ioY0uuK"
      }
    },
    {
      "cell_type": "code",
      "source": [
        "# linear estimator \n",
        "linear_est = tf.estimator.LinearClassifier(feature_columns=feature_columns)\n"
      ],
      "metadata": {
        "colab": {
          "base_uri": "https://localhost:8080/"
        },
        "id": "hyFHzN6T1fyl",
        "outputId": "db708483-98de-45d1-d6ee-e39a9e980259"
      },
      "execution_count": 59,
      "outputs": [
        {
          "output_type": "stream",
          "name": "stderr",
          "text": [
            "WARNING:tensorflow:Using temporary folder as model directory: /tmp/tmphgaghnh7\n"
          ]
        }
      ]
    },
    {
      "cell_type": "markdown",
      "source": [
        "##### Train the Model"
      ],
      "metadata": {
        "id": "m3TTjsfM11J1"
      }
    },
    {
      "cell_type": "code",
      "source": [
        "linear_est.train(train_input_fn)"
      ],
      "metadata": {
        "colab": {
          "base_uri": "https://localhost:8080/"
        },
        "id": "3sYH-tRo16tT",
        "outputId": "e604b876-38d0-4a24-c069-e10a2a64d488"
      },
      "execution_count": 67,
      "outputs": [
        {
          "output_type": "stream",
          "name": "stderr",
          "text": [
            "WARNING:tensorflow:From /usr/local/lib/python3.8/dist-packages/tensorflow/python/training/saver.py:1175: get_checkpoint_mtimes (from tensorflow.python.training.checkpoint_management) is deprecated and will be removed in a future version.\n",
            "Instructions for updating:\n",
            "Use standard file utilities to get mtimes.\n",
            "WARNING:tensorflow:It seems that global step (tf.train.get_global_step) has not been increased. Current value (could be stable): 295 vs previous value: 295. You could increase the global step by passing tf.train.get_global_step() to Optimizer.apply_gradients or Optimizer.minimize.\n",
            "WARNING:tensorflow:It seems that global step (tf.train.get_global_step) has not been increased. Current value (could be stable): 331 vs previous value: 331. You could increase the global step by passing tf.train.get_global_step() to Optimizer.apply_gradients or Optimizer.minimize.\n"
          ]
        },
        {
          "output_type": "execute_result",
          "data": {
            "text/plain": [
              "<tensorflow_estimator.python.estimator.canned.linear.LinearClassifierV2 at 0x7f4c35394490>"
            ]
          },
          "metadata": {},
          "execution_count": 67
        }
      ]
    },
    {
      "cell_type": "markdown",
      "source": [
        "##### Evaluate the Model"
      ],
      "metadata": {
        "id": "GbJoTQfn2KMa"
      }
    },
    {
      "cell_type": "code",
      "source": [
        "result = linear_est.evaluate(eval_input_fn)"
      ],
      "metadata": {
        "id": "bvaLOEXg2Nyy"
      },
      "execution_count": 68,
      "outputs": []
    },
    {
      "cell_type": "markdown",
      "source": [
        "#### Result"
      ],
      "metadata": {
        "id": "YZnI8Oa82VMB"
      }
    },
    {
      "cell_type": "code",
      "source": [
        "clear_output()\n",
        "print(result['accuracy'])\n",
        "print(result)"
      ],
      "metadata": {
        "colab": {
          "base_uri": "https://localhost:8080/"
        },
        "id": "112DP_j72W6a",
        "outputId": "1259a7dd-17e2-49d4-8ac5-dc48a95d5327"
      },
      "execution_count": 69,
      "outputs": [
        {
          "output_type": "stream",
          "name": "stdout",
          "text": [
            "0.75\n",
            "{'accuracy': 0.75, 'accuracy_baseline': 0.625, 'auc': 0.8357515, 'auc_precision_recall': 0.7939313, 'average_loss': 0.48300517, 'label/mean': 0.375, 'loss': 0.4730098, 'precision': 0.6486486, 'prediction/mean': 0.4303407, 'recall': 0.72727275, 'global_step': 400}\n"
          ]
        }
      ]
    },
    {
      "cell_type": "markdown",
      "source": [
        "##### Show Results "
      ],
      "metadata": {
        "id": "grnTDHNSU8SB"
      }
    },
    {
      "cell_type": "code",
      "source": [
        "result = list(linear_est.predict(eval_input_fn))\n",
        "\n",
        "# match prbability with actual y \n",
        "for idx in range(len(y_eval)):\n",
        "  print(\"pax [\"+ str(idx) + \"] actual \"+str(y_eval.loc[idx])+ \" pct survival \"+ str(result[idx]['probabilities'][1]))"
      ],
      "metadata": {
        "id": "MD4IGH8LVHx9",
        "outputId": "9293cd21-2654-4e5f-cf0f-c1349d364794",
        "colab": {
          "base_uri": "https://localhost:8080/"
        }
      },
      "execution_count": 80,
      "outputs": [
        {
          "output_type": "stream",
          "name": "stdout",
          "text": [
            "pax [0] actual 0 pct survival 0.08736905\n",
            "pax [1] actual 0 pct survival 0.5446306\n",
            "pax [2] actual 1 pct survival 0.81339675\n",
            "pax [3] actual 1 pct survival 0.71645254\n",
            "pax [4] actual 1 pct survival 0.31155202\n",
            "pax [5] actual 1 pct survival 0.80151063\n",
            "pax [6] actual 0 pct survival 0.55465996\n",
            "pax [7] actual 0 pct survival 0.12336704\n",
            "pax [8] actual 0 pct survival 0.68203026\n",
            "pax [9] actual 1 pct survival 0.7831805\n",
            "pax [10] actual 1 pct survival 0.7379673\n",
            "pax [11] actual 0 pct survival 0.12311683\n",
            "pax [12] actual 1 pct survival 0.90151924\n",
            "pax [13] actual 0 pct survival 0.5053334\n",
            "pax [14] actual 1 pct survival 0.8874138\n",
            "pax [15] actual 0 pct survival 0.600207\n",
            "pax [16] actual 0 pct survival 0.1912725\n",
            "pax [17] actual 1 pct survival 0.8723291\n",
            "pax [18] actual 1 pct survival 0.34121734\n",
            "pax [19] actual 0 pct survival 0.10146274\n",
            "pax [20] actual 0 pct survival 0.12617403\n",
            "pax [21] actual 0 pct survival 0.10156062\n",
            "pax [22] actual 1 pct survival 0.7229631\n",
            "pax [23] actual 0 pct survival 0.080900416\n",
            "pax [24] actual 0 pct survival 0.7373379\n",
            "pax [25] actual 0 pct survival 0.6146641\n",
            "pax [26] actual 0 pct survival 0.2883974\n",
            "pax [27] actual 0 pct survival 0.43732995\n",
            "pax [28] actual 1 pct survival 0.25232458\n",
            "pax [29] actual 1 pct survival 0.89229256\n",
            "pax [30] actual 0 pct survival 0.15181346\n",
            "pax [31] actual 1 pct survival 0.85325426\n",
            "pax [32] actual 0 pct survival 0.23163144\n",
            "pax [33] actual 1 pct survival 0.7266929\n",
            "pax [34] actual 0 pct survival 0.34350812\n",
            "pax [35] actual 1 pct survival 0.106367655\n",
            "pax [36] actual 0 pct survival 0.20026597\n",
            "pax [37] actual 0 pct survival 0.15883195\n",
            "pax [38] actual 1 pct survival 0.94579154\n",
            "pax [39] actual 0 pct survival 0.09898125\n",
            "pax [40] actual 1 pct survival 0.79206234\n",
            "pax [41] actual 1 pct survival 0.121563025\n",
            "pax [42] actual 0 pct survival 0.4785619\n",
            "pax [43] actual 0 pct survival 0.3618297\n",
            "pax [44] actual 0 pct survival 0.29597563\n",
            "pax [45] actual 1 pct survival 0.8465995\n",
            "pax [46] actual 0 pct survival 0.12324188\n",
            "pax [47] actual 0 pct survival 0.44575208\n",
            "pax [48] actual 1 pct survival 0.4854476\n",
            "pax [49] actual 0 pct survival 0.5397545\n",
            "pax [50] actual 0 pct survival 0.12126283\n",
            "pax [51] actual 0 pct survival 0.26230782\n",
            "pax [52] actual 0 pct survival 0.06696421\n",
            "pax [53] actual 0 pct survival 0.11198252\n",
            "pax [54] actual 1 pct survival 0.1325765\n",
            "pax [55] actual 0 pct survival 0.113775395\n",
            "pax [56] actual 0 pct survival 0.20805047\n",
            "pax [57] actual 1 pct survival 0.98090214\n",
            "pax [58] actual 0 pct survival 0.22198087\n",
            "pax [59] actual 0 pct survival 0.10386626\n",
            "pax [60] actual 1 pct survival 0.4284411\n",
            "pax [61] actual 1 pct survival 0.5951859\n",
            "pax [62] actual 0 pct survival 0.23240885\n",
            "pax [63] actual 1 pct survival 0.86444396\n",
            "pax [64] actual 0 pct survival 0.20877023\n",
            "pax [65] actual 0 pct survival 0.7006278\n",
            "pax [66] actual 1 pct survival 0.562618\n",
            "pax [67] actual 0 pct survival 0.13570209\n",
            "pax [68] actual 0 pct survival 0.17340598\n",
            "pax [69] actual 1 pct survival 0.71483415\n",
            "pax [70] actual 1 pct survival 0.967745\n",
            "pax [71] actual 0 pct survival 0.6587531\n",
            "pax [72] actual 0 pct survival 0.05182778\n",
            "pax [73] actual 1 pct survival 0.1294437\n",
            "pax [74] actual 0 pct survival 0.15273017\n",
            "pax [75] actual 1 pct survival 0.10018552\n",
            "pax [76] actual 0 pct survival 0.12027043\n",
            "pax [77] actual 1 pct survival 0.15883195\n",
            "pax [78] actual 1 pct survival 0.7686215\n",
            "pax [79] actual 1 pct survival 0.9871802\n",
            "pax [80] actual 0 pct survival 0.7084288\n",
            "pax [81] actual 0 pct survival 0.5053334\n",
            "pax [82] actual 0 pct survival 0.18767451\n",
            "pax [83] actual 0 pct survival 0.98154175\n",
            "pax [84] actual 1 pct survival 0.107230164\n",
            "pax [85] actual 1 pct survival 0.7463979\n",
            "pax [86] actual 1 pct survival 0.6949796\n",
            "pax [87] actual 0 pct survival 0.120478146\n",
            "pax [88] actual 1 pct survival 0.8640131\n",
            "pax [89] actual 1 pct survival 0.88854116\n",
            "pax [90] actual 1 pct survival 0.9819392\n",
            "pax [91] actual 0 pct survival 0.25170243\n",
            "pax [92] actual 0 pct survival 0.108545914\n",
            "pax [93] actual 1 pct survival 0.9918223\n",
            "pax [94] actual 1 pct survival 0.54826456\n",
            "pax [95] actual 1 pct survival 0.95313036\n",
            "pax [96] actual 1 pct survival 0.22678633\n",
            "pax [97] actual 0 pct survival 0.07356665\n",
            "pax [98] actual 0 pct survival 0.11867069\n",
            "pax [99] actual 0 pct survival 0.36638314\n",
            "pax [100] actual 0 pct survival 0.098322354\n",
            "pax [101] actual 1 pct survival 0.8330835\n",
            "pax [102] actual 0 pct survival 0.7660219\n",
            "pax [103] actual 0 pct survival 0.58834124\n",
            "pax [104] actual 1 pct survival 0.7166659\n",
            "pax [105] actual 0 pct survival 0.19802722\n",
            "pax [106] actual 1 pct survival 0.8447632\n",
            "pax [107] actual 1 pct survival 0.91913086\n",
            "pax [108] actual 1 pct survival 0.8056526\n",
            "pax [109] actual 0 pct survival 0.07383442\n",
            "pax [110] actual 1 pct survival 0.8373874\n",
            "pax [111] actual 0 pct survival 0.73197347\n",
            "pax [112] actual 0 pct survival 0.73029196\n",
            "pax [113] actual 0 pct survival 0.0579066\n",
            "pax [114] actual 1 pct survival 0.95439875\n",
            "pax [115] actual 0 pct survival 0.721554\n",
            "pax [116] actual 0 pct survival 0.101315044\n",
            "pax [117] actual 0 pct survival 0.73015743\n",
            "pax [118] actual 0 pct survival 0.10331078\n",
            "pax [119] actual 1 pct survival 0.85666656\n",
            "pax [120] actual 0 pct survival 0.64781123\n",
            "pax [121] actual 0 pct survival 0.11423013\n",
            "pax [122] actual 1 pct survival 0.6575359\n",
            "pax [123] actual 1 pct survival 0.88250893\n",
            "pax [124] actual 0 pct survival 0.11733899\n",
            "pax [125] actual 0 pct survival 0.10399926\n",
            "pax [126] actual 1 pct survival 0.73372096\n",
            "pax [127] actual 0 pct survival 0.13142623\n",
            "pax [128] actual 0 pct survival 0.1379932\n",
            "pax [129] actual 0 pct survival 0.19748454\n",
            "pax [130] actual 0 pct survival 0.08143003\n",
            "pax [131] actual 0 pct survival 0.72150713\n",
            "pax [132] actual 0 pct survival 0.11990343\n",
            "pax [133] actual 0 pct survival 0.05958176\n",
            "pax [134] actual 0 pct survival 0.09898125\n",
            "pax [135] actual 0 pct survival 0.1225679\n",
            "pax [136] actual 0 pct survival 0.20875297\n",
            "pax [137] actual 0 pct survival 0.17915712\n",
            "pax [138] actual 1 pct survival 0.96698046\n",
            "pax [139] actual 0 pct survival 0.11024342\n",
            "pax [140] actual 0 pct survival 0.114473805\n",
            "pax [141] actual 0 pct survival 0.7377508\n",
            "pax [142] actual 1 pct survival 0.97782934\n",
            "pax [143] actual 0 pct survival 0.11717241\n",
            "pax [144] actual 1 pct survival 0.1283166\n",
            "pax [145] actual 0 pct survival 0.10399926\n",
            "pax [146] actual 1 pct survival 0.6076521\n",
            "pax [147] actual 0 pct survival 0.14975774\n",
            "pax [148] actual 0 pct survival 0.16951524\n",
            "pax [149] actual 0 pct survival 0.078897305\n",
            "pax [150] actual 0 pct survival 0.16952075\n",
            "pax [151] actual 0 pct survival 0.109699465\n",
            "pax [152] actual 1 pct survival 0.22338681\n",
            "pax [153] actual 0 pct survival 0.17401709\n",
            "pax [154] actual 1 pct survival 0.41459772\n",
            "pax [155] actual 1 pct survival 0.19404271\n",
            "pax [156] actual 0 pct survival 0.18283033\n",
            "pax [157] actual 0 pct survival 0.21805319\n",
            "pax [158] actual 0 pct survival 0.68358135\n",
            "pax [159] actual 0 pct survival 0.16952075\n",
            "pax [160] actual 1 pct survival 0.7379673\n",
            "pax [161] actual 0 pct survival 0.13632631\n",
            "pax [162] actual 1 pct survival 0.97283596\n",
            "pax [163] actual 0 pct survival 0.806445\n",
            "pax [164] actual 1 pct survival 0.09408122\n",
            "pax [165] actual 1 pct survival 0.9711027\n",
            "pax [166] actual 0 pct survival 0.13276137\n",
            "pax [167] actual 0 pct survival 0.17146377\n",
            "pax [168] actual 1 pct survival 0.9799315\n",
            "pax [169] actual 0 pct survival 0.12042163\n",
            "pax [170] actual 1 pct survival 0.8386768\n",
            "pax [171] actual 0 pct survival 0.10386626\n",
            "pax [172] actual 0 pct survival 0.39775392\n",
            "pax [173] actual 0 pct survival 0.06953454\n",
            "pax [174] actual 0 pct survival 0.13142623\n",
            "pax [175] actual 0 pct survival 0.7160975\n",
            "pax [176] actual 1 pct survival 0.94175315\n",
            "pax [177] actual 0 pct survival 0.18705179\n",
            "pax [178] actual 1 pct survival 0.49329516\n",
            "pax [179] actual 0 pct survival 0.12317103\n",
            "pax [180] actual 0 pct survival 0.13165987\n",
            "pax [181] actual 0 pct survival 0.30841053\n",
            "pax [182] actual 0 pct survival 0.25441864\n",
            "pax [183] actual 1 pct survival 0.9816432\n",
            "pax [184] actual 0 pct survival 0.5209942\n",
            "pax [185] actual 0 pct survival 0.12928283\n",
            "pax [186] actual 1 pct survival 0.45677066\n",
            "pax [187] actual 1 pct survival 0.7381091\n",
            "pax [188] actual 0 pct survival 0.7860634\n",
            "pax [189] actual 0 pct survival 0.2415713\n",
            "pax [190] actual 0 pct survival 0.54477036\n",
            "pax [191] actual 0 pct survival 0.1279403\n",
            "pax [192] actual 0 pct survival 0.23042926\n",
            "pax [193] actual 1 pct survival 0.92816514\n",
            "pax [194] actual 0 pct survival 0.07866449\n",
            "pax [195] actual 0 pct survival 0.11332278\n",
            "pax [196] actual 0 pct survival 0.639931\n",
            "pax [197] actual 0 pct survival 0.7386607\n",
            "pax [198] actual 0 pct survival 0.36360025\n",
            "pax [199] actual 0 pct survival 0.087435104\n",
            "pax [200] actual 0 pct survival 0.18145669\n",
            "pax [201] actual 0 pct survival 0.12592238\n",
            "pax [202] actual 0 pct survival 0.06953454\n",
            "pax [203] actual 0 pct survival 0.112104855\n",
            "pax [204] actual 1 pct survival 0.9935163\n",
            "pax [205] actual 0 pct survival 0.8289463\n",
            "pax [206] actual 0 pct survival 0.1115478\n",
            "pax [207] actual 1 pct survival 0.7647618\n",
            "pax [208] actual 1 pct survival 0.5676671\n",
            "pax [209] actual 0 pct survival 0.12541354\n",
            "pax [210] actual 0 pct survival 0.13767138\n",
            "pax [211] actual 0 pct survival 0.19049564\n",
            "pax [212] actual 0 pct survival 0.12700179\n",
            "pax [213] actual 1 pct survival 0.73794496\n",
            "pax [214] actual 0 pct survival 0.10980308\n",
            "pax [215] actual 0 pct survival 0.61614525\n",
            "pax [216] actual 1 pct survival 0.53101826\n",
            "pax [217] actual 1 pct survival 0.09645298\n",
            "pax [218] actual 0 pct survival 0.1759542\n",
            "pax [219] actual 1 pct survival 0.8302105\n",
            "pax [220] actual 0 pct survival 0.648208\n",
            "pax [221] actual 0 pct survival 0.12228541\n",
            "pax [222] actual 1 pct survival 0.4135362\n",
            "pax [223] actual 0 pct survival 0.2649529\n",
            "pax [224] actual 1 pct survival 0.9650662\n",
            "pax [225] actual 1 pct survival 0.9660714\n",
            "pax [226] actual 0 pct survival 0.13873021\n",
            "pax [227] actual 0 pct survival 0.7244478\n",
            "pax [228] actual 0 pct survival 0.11608371\n",
            "pax [229] actual 0 pct survival 0.16951524\n",
            "pax [230] actual 1 pct survival 0.73667806\n",
            "pax [231] actual 0 pct survival 0.13141304\n",
            "pax [232] actual 1 pct survival 0.98371536\n",
            "pax [233] actual 1 pct survival 0.85164917\n",
            "pax [234] actual 0 pct survival 0.11121298\n",
            "pax [235] actual 1 pct survival 0.73891485\n",
            "pax [236] actual 0 pct survival 0.11814098\n",
            "pax [237] actual 1 pct survival 0.28559592\n",
            "pax [238] actual 1 pct survival 0.10564715\n",
            "pax [239] actual 0 pct survival 0.73941344\n",
            "pax [240] actual 0 pct survival 0.58828616\n",
            "pax [241] actual 0 pct survival 0.07036065\n",
            "pax [242] actual 0 pct survival 0.25298584\n",
            "pax [243] actual 1 pct survival 0.87671906\n",
            "pax [244] actual 1 pct survival 0.44849357\n",
            "pax [245] actual 1 pct survival 0.9334377\n",
            "pax [246] actual 1 pct survival 0.42204022\n",
            "pax [247] actual 1 pct survival 0.1400462\n",
            "pax [248] actual 0 pct survival 0.12624636\n",
            "pax [249] actual 0 pct survival 0.13644038\n",
            "pax [250] actual 0 pct survival 0.031615604\n",
            "pax [251] actual 0 pct survival 0.89073277\n",
            "pax [252] actual 0 pct survival 0.7937322\n",
            "pax [253] actual 0 pct survival 0.16952075\n",
            "pax [254] actual 0 pct survival 0.25395396\n",
            "pax [255] actual 1 pct survival 0.92128843\n",
            "pax [256] actual 0 pct survival 0.49729759\n",
            "pax [257] actual 0 pct survival 0.10525743\n",
            "pax [258] actual 1 pct survival 0.9258756\n",
            "pax [259] actual 1 pct survival 0.85149616\n",
            "pax [260] actual 0 pct survival 0.091739275\n",
            "pax [261] actual 0 pct survival 0.56991273\n",
            "pax [262] actual 0 pct survival 0.22198087\n",
            "pax [263] actual 1 pct survival 0.50827265\n"
          ]
        }
      ]
    }
  ],
  "metadata": {
    "kernelspec": {
      "display_name": "Python 3.10.6 64-bit",
      "language": "python",
      "name": "python3"
    },
    "language_info": {
      "name": "python",
      "version": "3.10.6"
    },
    "orig_nbformat": 4,
    "vscode": {
      "interpreter": {
        "hash": "e7370f93d1d0cde622a1f8e1c04877d8463912d04d973331ad4851f04de6915a"
      }
    },
    "colab": {
      "provenance": [],
      "toc_visible": true
    }
  },
  "nbformat": 4,
  "nbformat_minor": 0
}