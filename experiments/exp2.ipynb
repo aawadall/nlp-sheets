{
  "cells": [
    {
      "cell_type": "markdown",
      "metadata": {
        "id": "view-in-github",
        "colab_type": "text"
      },
      "source": [
        "<a href=\"https://colab.research.google.com/github/aawadall/nlp-sheets/blob/main/experiments/exp2.ipynb\" target=\"_parent\"><img src=\"https://colab.research.google.com/assets/colab-badge.svg\" alt=\"Open In Colab\"/></a>"
      ]
    },
    {
      "cell_type": "markdown",
      "metadata": {
        "id": "phSQZFN8_Vc3"
      },
      "source": [
        "# NLP Experiment 2 - Tensorflow\n",
        "Experiment with Tensorflow basic operations \n",
        "follow along [FreeCodeCamp's Course](https://www.youtube.com/watch?v=tPYj3fFJGjk)"
      ]
    },
    {
      "cell_type": "markdown",
      "source": [
        "## Module 1 - Introduction"
      ],
      "metadata": {
        "id": "15sfK7Jd_tpn"
      }
    },
    {
      "cell_type": "markdown",
      "source": [
        "### Install TF\n",
        "for local environment, we need to run\n",
        "\n",
        "\n",
        "```\n",
        "!pip install --upgrade tensorflow\n",
        "```\n",
        "\n",
        "for colab \n",
        "```\n",
        "%tensorflow_version 2.x\n",
        "```\n"
      ],
      "metadata": {
        "id": "U9_29vmhGgyX"
      }
    },
    {
      "cell_type": "code",
      "source": [
        "#@title Select environment\n",
        "environment = \"collab\" #@param [\"collab\", \"local\"]\n",
        "\n"
      ],
      "metadata": {
        "id": "vZ3jxX_hGjKW"
      },
      "execution_count": 3,
      "outputs": []
    },
    {
      "cell_type": "code",
      "source": [
        "if environment == 'collab':\n",
        "  %tensorflow_version 2.x\n",
        "elif environment == 'local':\n",
        "  !pip install --upgrade tensorflow \n",
        "  "
      ],
      "metadata": {
        "colab": {
          "base_uri": "https://localhost:8080/"
        },
        "id": "mJk4_Y59H8v3",
        "outputId": "e8922a1d-9fce-4641-fbd7-c0a7f8e91378"
      },
      "execution_count": 4,
      "outputs": [
        {
          "output_type": "stream",
          "name": "stdout",
          "text": [
            "Colab only includes TensorFlow 2.x; %tensorflow_version has no effect.\n"
          ]
        }
      ]
    },
    {
      "cell_type": "markdown",
      "source": [
        "Now we import tensorflow as tf and check version"
      ],
      "metadata": {
        "id": "o0-JLNK_IbCj"
      }
    },
    {
      "cell_type": "code",
      "source": [
        "import tensorflow as tf \n",
        "print(tf.version)"
      ],
      "metadata": {
        "colab": {
          "base_uri": "https://localhost:8080/"
        },
        "id": "vv_IPaPJIBdO",
        "outputId": "f44ba58a-7070-4e43-9693-525a19b4af85"
      },
      "execution_count": 5,
      "outputs": [
        {
          "output_type": "stream",
          "name": "stdout",
          "text": [
            "<module 'tensorflow._api.v2.version' from '/usr/local/lib/python3.8/dist-packages/tensorflow/_api/v2/version/__init__.py'>\n"
          ]
        }
      ]
    },
    {
      "cell_type": "markdown",
      "source": [
        "### Create Tensors \n",
        "create three tensors of three datatypes \n",
        "* string \n",
        "* number \n",
        "* float "
      ],
      "metadata": {
        "id": "Neek4HlwI54Z"
      }
    },
    {
      "cell_type": "code",
      "source": [
        "str_tensor = tf.Variable(\"string tensor\", tf.string)\n",
        "num_tensor = tf.Variable(42, tf.int16)\n",
        "float_tensor = tf.Variable(3.14159, tf.float64)"
      ],
      "metadata": {
        "id": "D7i2i8haJR68"
      },
      "execution_count": 6,
      "outputs": []
    },
    {
      "cell_type": "markdown",
      "source": [
        "### Rank/Degree\n",
        "check rank/degree of tensors"
      ],
      "metadata": {
        "id": "3LgaLW_WJ7Kc"
      }
    },
    {
      "cell_type": "code",
      "source": [
        "rank1_tensor = tf.Variable([\"The\", \"quick\", \"brown\", \"fox\"], tf.string)\n",
        "rank2_tensor = tf.Variable([[\"this\", \"is\", \"a\", \"sentence\"],[\"the\", \"other\", \"sentence\", \"follows\"]], tf.string)"
      ],
      "metadata": {
        "id": "9BKRnLNRKC0F"
      },
      "execution_count": 7,
      "outputs": []
    },
    {
      "cell_type": "markdown",
      "source": [
        "let us check its ranks"
      ],
      "metadata": {
        "id": "LbZHhQZRKmU5"
      }
    },
    {
      "cell_type": "code",
      "source": [
        "ranks_vec = []\n",
        "ranks_vec.append(tf.rank(str_tensor))\n",
        "ranks_vec.append(tf.rank(rank1_tensor))\n",
        "ranks_vec.append(tf.rank(rank2_tensor))\n",
        "\n",
        "# print \n",
        "ranks_vec"
      ],
      "metadata": {
        "colab": {
          "base_uri": "https://localhost:8080/"
        },
        "id": "HuqL5M0pKqHw",
        "outputId": "e3e06d92-759f-4280-e5c2-b3f233779bad"
      },
      "execution_count": 8,
      "outputs": [
        {
          "output_type": "execute_result",
          "data": {
            "text/plain": [
              "[<tf.Tensor: shape=(), dtype=int32, numpy=0>,\n",
              " <tf.Tensor: shape=(), dtype=int32, numpy=1>,\n",
              " <tf.Tensor: shape=(), dtype=int32, numpy=2>]"
            ]
          },
          "metadata": {},
          "execution_count": 8
        }
      ]
    },
    {
      "cell_type": "markdown",
      "source": [
        "check shapes"
      ],
      "metadata": {
        "id": "QSN6m70-Lwr8"
      }
    },
    {
      "cell_type": "code",
      "source": [
        "tensor1 = tf.ones([1,2,3])\n",
        "print(tensor1)\n",
        "tensor2 = tf.reshape(tensor1, [2,3,1])\n",
        "tensor3 = tf.reshape(tensor2, [3, -1])"
      ],
      "metadata": {
        "colab": {
          "base_uri": "https://localhost:8080/"
        },
        "id": "WlCefGojLzM7",
        "outputId": "f69690d3-aa84-4f30-af87-92a97941cd82"
      },
      "execution_count": 9,
      "outputs": [
        {
          "output_type": "stream",
          "name": "stdout",
          "text": [
            "tf.Tensor(\n",
            "[[[1. 1. 1.]\n",
            "  [1. 1. 1.]]], shape=(1, 2, 3), dtype=float32)\n"
          ]
        }
      ]
    },
    {
      "cell_type": "code",
      "source": [
        "print(tensor1)\n",
        "print(tensor2)\n",
        "print(tensor3)"
      ],
      "metadata": {
        "colab": {
          "base_uri": "https://localhost:8080/"
        },
        "id": "uUc8E9HBfs5D",
        "outputId": "d356c363-c7bc-4e54-ba49-df469425e9ca"
      },
      "execution_count": 10,
      "outputs": [
        {
          "output_type": "stream",
          "name": "stdout",
          "text": [
            "tf.Tensor(\n",
            "[[[1. 1. 1.]\n",
            "  [1. 1. 1.]]], shape=(1, 2, 3), dtype=float32)\n",
            "tf.Tensor(\n",
            "[[[1.]\n",
            "  [1.]\n",
            "  [1.]]\n",
            "\n",
            " [[1.]\n",
            "  [1.]\n",
            "  [1.]]], shape=(2, 3, 1), dtype=float32)\n",
            "tf.Tensor(\n",
            "[[1. 1.]\n",
            " [1. 1.]\n",
            " [1. 1.]], shape=(3, 2), dtype=float32)\n"
          ]
        }
      ]
    },
    {
      "cell_type": "markdown",
      "source": [
        "### Toy example"
      ],
      "metadata": {
        "id": "TJ8d4nYYhZ5z"
      }
    },
    {
      "cell_type": "code",
      "source": [
        "t = tf.zeros([5,5,5,5])\n",
        "print(t)\n",
        "t = tf.reshape(t, [25, -1])\n",
        "print(t)"
      ],
      "metadata": {
        "colab": {
          "base_uri": "https://localhost:8080/"
        },
        "id": "Gt4UZC9AhcM6",
        "outputId": "0dc3888f-6cde-4cef-9714-b37913e39804"
      },
      "execution_count": 11,
      "outputs": [
        {
          "output_type": "stream",
          "name": "stdout",
          "text": [
            "tf.Tensor(\n",
            "[[[[0. 0. 0. 0. 0.]\n",
            "   [0. 0. 0. 0. 0.]\n",
            "   [0. 0. 0. 0. 0.]\n",
            "   [0. 0. 0. 0. 0.]\n",
            "   [0. 0. 0. 0. 0.]]\n",
            "\n",
            "  [[0. 0. 0. 0. 0.]\n",
            "   [0. 0. 0. 0. 0.]\n",
            "   [0. 0. 0. 0. 0.]\n",
            "   [0. 0. 0. 0. 0.]\n",
            "   [0. 0. 0. 0. 0.]]\n",
            "\n",
            "  [[0. 0. 0. 0. 0.]\n",
            "   [0. 0. 0. 0. 0.]\n",
            "   [0. 0. 0. 0. 0.]\n",
            "   [0. 0. 0. 0. 0.]\n",
            "   [0. 0. 0. 0. 0.]]\n",
            "\n",
            "  [[0. 0. 0. 0. 0.]\n",
            "   [0. 0. 0. 0. 0.]\n",
            "   [0. 0. 0. 0. 0.]\n",
            "   [0. 0. 0. 0. 0.]\n",
            "   [0. 0. 0. 0. 0.]]\n",
            "\n",
            "  [[0. 0. 0. 0. 0.]\n",
            "   [0. 0. 0. 0. 0.]\n",
            "   [0. 0. 0. 0. 0.]\n",
            "   [0. 0. 0. 0. 0.]\n",
            "   [0. 0. 0. 0. 0.]]]\n",
            "\n",
            "\n",
            " [[[0. 0. 0. 0. 0.]\n",
            "   [0. 0. 0. 0. 0.]\n",
            "   [0. 0. 0. 0. 0.]\n",
            "   [0. 0. 0. 0. 0.]\n",
            "   [0. 0. 0. 0. 0.]]\n",
            "\n",
            "  [[0. 0. 0. 0. 0.]\n",
            "   [0. 0. 0. 0. 0.]\n",
            "   [0. 0. 0. 0. 0.]\n",
            "   [0. 0. 0. 0. 0.]\n",
            "   [0. 0. 0. 0. 0.]]\n",
            "\n",
            "  [[0. 0. 0. 0. 0.]\n",
            "   [0. 0. 0. 0. 0.]\n",
            "   [0. 0. 0. 0. 0.]\n",
            "   [0. 0. 0. 0. 0.]\n",
            "   [0. 0. 0. 0. 0.]]\n",
            "\n",
            "  [[0. 0. 0. 0. 0.]\n",
            "   [0. 0. 0. 0. 0.]\n",
            "   [0. 0. 0. 0. 0.]\n",
            "   [0. 0. 0. 0. 0.]\n",
            "   [0. 0. 0. 0. 0.]]\n",
            "\n",
            "  [[0. 0. 0. 0. 0.]\n",
            "   [0. 0. 0. 0. 0.]\n",
            "   [0. 0. 0. 0. 0.]\n",
            "   [0. 0. 0. 0. 0.]\n",
            "   [0. 0. 0. 0. 0.]]]\n",
            "\n",
            "\n",
            " [[[0. 0. 0. 0. 0.]\n",
            "   [0. 0. 0. 0. 0.]\n",
            "   [0. 0. 0. 0. 0.]\n",
            "   [0. 0. 0. 0. 0.]\n",
            "   [0. 0. 0. 0. 0.]]\n",
            "\n",
            "  [[0. 0. 0. 0. 0.]\n",
            "   [0. 0. 0. 0. 0.]\n",
            "   [0. 0. 0. 0. 0.]\n",
            "   [0. 0. 0. 0. 0.]\n",
            "   [0. 0. 0. 0. 0.]]\n",
            "\n",
            "  [[0. 0. 0. 0. 0.]\n",
            "   [0. 0. 0. 0. 0.]\n",
            "   [0. 0. 0. 0. 0.]\n",
            "   [0. 0. 0. 0. 0.]\n",
            "   [0. 0. 0. 0. 0.]]\n",
            "\n",
            "  [[0. 0. 0. 0. 0.]\n",
            "   [0. 0. 0. 0. 0.]\n",
            "   [0. 0. 0. 0. 0.]\n",
            "   [0. 0. 0. 0. 0.]\n",
            "   [0. 0. 0. 0. 0.]]\n",
            "\n",
            "  [[0. 0. 0. 0. 0.]\n",
            "   [0. 0. 0. 0. 0.]\n",
            "   [0. 0. 0. 0. 0.]\n",
            "   [0. 0. 0. 0. 0.]\n",
            "   [0. 0. 0. 0. 0.]]]\n",
            "\n",
            "\n",
            " [[[0. 0. 0. 0. 0.]\n",
            "   [0. 0. 0. 0. 0.]\n",
            "   [0. 0. 0. 0. 0.]\n",
            "   [0. 0. 0. 0. 0.]\n",
            "   [0. 0. 0. 0. 0.]]\n",
            "\n",
            "  [[0. 0. 0. 0. 0.]\n",
            "   [0. 0. 0. 0. 0.]\n",
            "   [0. 0. 0. 0. 0.]\n",
            "   [0. 0. 0. 0. 0.]\n",
            "   [0. 0. 0. 0. 0.]]\n",
            "\n",
            "  [[0. 0. 0. 0. 0.]\n",
            "   [0. 0. 0. 0. 0.]\n",
            "   [0. 0. 0. 0. 0.]\n",
            "   [0. 0. 0. 0. 0.]\n",
            "   [0. 0. 0. 0. 0.]]\n",
            "\n",
            "  [[0. 0. 0. 0. 0.]\n",
            "   [0. 0. 0. 0. 0.]\n",
            "   [0. 0. 0. 0. 0.]\n",
            "   [0. 0. 0. 0. 0.]\n",
            "   [0. 0. 0. 0. 0.]]\n",
            "\n",
            "  [[0. 0. 0. 0. 0.]\n",
            "   [0. 0. 0. 0. 0.]\n",
            "   [0. 0. 0. 0. 0.]\n",
            "   [0. 0. 0. 0. 0.]\n",
            "   [0. 0. 0. 0. 0.]]]\n",
            "\n",
            "\n",
            " [[[0. 0. 0. 0. 0.]\n",
            "   [0. 0. 0. 0. 0.]\n",
            "   [0. 0. 0. 0. 0.]\n",
            "   [0. 0. 0. 0. 0.]\n",
            "   [0. 0. 0. 0. 0.]]\n",
            "\n",
            "  [[0. 0. 0. 0. 0.]\n",
            "   [0. 0. 0. 0. 0.]\n",
            "   [0. 0. 0. 0. 0.]\n",
            "   [0. 0. 0. 0. 0.]\n",
            "   [0. 0. 0. 0. 0.]]\n",
            "\n",
            "  [[0. 0. 0. 0. 0.]\n",
            "   [0. 0. 0. 0. 0.]\n",
            "   [0. 0. 0. 0. 0.]\n",
            "   [0. 0. 0. 0. 0.]\n",
            "   [0. 0. 0. 0. 0.]]\n",
            "\n",
            "  [[0. 0. 0. 0. 0.]\n",
            "   [0. 0. 0. 0. 0.]\n",
            "   [0. 0. 0. 0. 0.]\n",
            "   [0. 0. 0. 0. 0.]\n",
            "   [0. 0. 0. 0. 0.]]\n",
            "\n",
            "  [[0. 0. 0. 0. 0.]\n",
            "   [0. 0. 0. 0. 0.]\n",
            "   [0. 0. 0. 0. 0.]\n",
            "   [0. 0. 0. 0. 0.]\n",
            "   [0. 0. 0. 0. 0.]]]], shape=(5, 5, 5, 5), dtype=float32)\n",
            "tf.Tensor(\n",
            "[[0. 0. 0. 0. 0. 0. 0. 0. 0. 0. 0. 0. 0. 0. 0. 0. 0. 0. 0. 0. 0. 0. 0. 0.\n",
            "  0.]\n",
            " [0. 0. 0. 0. 0. 0. 0. 0. 0. 0. 0. 0. 0. 0. 0. 0. 0. 0. 0. 0. 0. 0. 0. 0.\n",
            "  0.]\n",
            " [0. 0. 0. 0. 0. 0. 0. 0. 0. 0. 0. 0. 0. 0. 0. 0. 0. 0. 0. 0. 0. 0. 0. 0.\n",
            "  0.]\n",
            " [0. 0. 0. 0. 0. 0. 0. 0. 0. 0. 0. 0. 0. 0. 0. 0. 0. 0. 0. 0. 0. 0. 0. 0.\n",
            "  0.]\n",
            " [0. 0. 0. 0. 0. 0. 0. 0. 0. 0. 0. 0. 0. 0. 0. 0. 0. 0. 0. 0. 0. 0. 0. 0.\n",
            "  0.]\n",
            " [0. 0. 0. 0. 0. 0. 0. 0. 0. 0. 0. 0. 0. 0. 0. 0. 0. 0. 0. 0. 0. 0. 0. 0.\n",
            "  0.]\n",
            " [0. 0. 0. 0. 0. 0. 0. 0. 0. 0. 0. 0. 0. 0. 0. 0. 0. 0. 0. 0. 0. 0. 0. 0.\n",
            "  0.]\n",
            " [0. 0. 0. 0. 0. 0. 0. 0. 0. 0. 0. 0. 0. 0. 0. 0. 0. 0. 0. 0. 0. 0. 0. 0.\n",
            "  0.]\n",
            " [0. 0. 0. 0. 0. 0. 0. 0. 0. 0. 0. 0. 0. 0. 0. 0. 0. 0. 0. 0. 0. 0. 0. 0.\n",
            "  0.]\n",
            " [0. 0. 0. 0. 0. 0. 0. 0. 0. 0. 0. 0. 0. 0. 0. 0. 0. 0. 0. 0. 0. 0. 0. 0.\n",
            "  0.]\n",
            " [0. 0. 0. 0. 0. 0. 0. 0. 0. 0. 0. 0. 0. 0. 0. 0. 0. 0. 0. 0. 0. 0. 0. 0.\n",
            "  0.]\n",
            " [0. 0. 0. 0. 0. 0. 0. 0. 0. 0. 0. 0. 0. 0. 0. 0. 0. 0. 0. 0. 0. 0. 0. 0.\n",
            "  0.]\n",
            " [0. 0. 0. 0. 0. 0. 0. 0. 0. 0. 0. 0. 0. 0. 0. 0. 0. 0. 0. 0. 0. 0. 0. 0.\n",
            "  0.]\n",
            " [0. 0. 0. 0. 0. 0. 0. 0. 0. 0. 0. 0. 0. 0. 0. 0. 0. 0. 0. 0. 0. 0. 0. 0.\n",
            "  0.]\n",
            " [0. 0. 0. 0. 0. 0. 0. 0. 0. 0. 0. 0. 0. 0. 0. 0. 0. 0. 0. 0. 0. 0. 0. 0.\n",
            "  0.]\n",
            " [0. 0. 0. 0. 0. 0. 0. 0. 0. 0. 0. 0. 0. 0. 0. 0. 0. 0. 0. 0. 0. 0. 0. 0.\n",
            "  0.]\n",
            " [0. 0. 0. 0. 0. 0. 0. 0. 0. 0. 0. 0. 0. 0. 0. 0. 0. 0. 0. 0. 0. 0. 0. 0.\n",
            "  0.]\n",
            " [0. 0. 0. 0. 0. 0. 0. 0. 0. 0. 0. 0. 0. 0. 0. 0. 0. 0. 0. 0. 0. 0. 0. 0.\n",
            "  0.]\n",
            " [0. 0. 0. 0. 0. 0. 0. 0. 0. 0. 0. 0. 0. 0. 0. 0. 0. 0. 0. 0. 0. 0. 0. 0.\n",
            "  0.]\n",
            " [0. 0. 0. 0. 0. 0. 0. 0. 0. 0. 0. 0. 0. 0. 0. 0. 0. 0. 0. 0. 0. 0. 0. 0.\n",
            "  0.]\n",
            " [0. 0. 0. 0. 0. 0. 0. 0. 0. 0. 0. 0. 0. 0. 0. 0. 0. 0. 0. 0. 0. 0. 0. 0.\n",
            "  0.]\n",
            " [0. 0. 0. 0. 0. 0. 0. 0. 0. 0. 0. 0. 0. 0. 0. 0. 0. 0. 0. 0. 0. 0. 0. 0.\n",
            "  0.]\n",
            " [0. 0. 0. 0. 0. 0. 0. 0. 0. 0. 0. 0. 0. 0. 0. 0. 0. 0. 0. 0. 0. 0. 0. 0.\n",
            "  0.]\n",
            " [0. 0. 0. 0. 0. 0. 0. 0. 0. 0. 0. 0. 0. 0. 0. 0. 0. 0. 0. 0. 0. 0. 0. 0.\n",
            "  0.]\n",
            " [0. 0. 0. 0. 0. 0. 0. 0. 0. 0. 0. 0. 0. 0. 0. 0. 0. 0. 0. 0. 0. 0. 0. 0.\n",
            "  0.]], shape=(25, 25), dtype=float32)\n"
          ]
        }
      ]
    },
    {
      "cell_type": "markdown",
      "source": [
        "## Module 3 - Learning Algo\n",
        "* [ ] Linear Regression \n",
        "* [ ] Classification \n",
        "* [ ] Clustering \n",
        "* [ ] HMM\n"
      ],
      "metadata": {
        "id": "0nIvV2w3iJ9z"
      }
    },
    {
      "cell_type": "markdown",
      "source": [
        "### Linear Regression"
      ],
      "metadata": {
        "id": "-xegPOdslbGk"
      }
    },
    {
      "cell_type": "code",
      "source": [
        "import matplotlib.pyplot as plt\n",
        "import numpy as np\n",
        "\n",
        "x = [1, 2, 2.5, 3, 4]\n",
        "y = [1, 4, 7, 9, 15]\n",
        "\n",
        "plt.plot(x, y, 'ro')\n",
        "plt.axis([0, 6, 0, 20])"
      ],
      "metadata": {
        "colab": {
          "base_uri": "https://localhost:8080/",
          "height": 286
        },
        "id": "6C-MptjYiOkj",
        "outputId": "b06aac9d-d9a6-4d86-8b30-4492722d44c6"
      },
      "execution_count": 12,
      "outputs": [
        {
          "output_type": "execute_result",
          "data": {
            "text/plain": [
              "(0.0, 6.0, 0.0, 20.0)"
            ]
          },
          "metadata": {},
          "execution_count": 12
        },
        {
          "output_type": "display_data",
          "data": {
            "text/plain": [
              "<Figure size 432x288 with 1 Axes>"
            ],
            "image/png": "[encoded data removed]"
          },
          "metadata": {
            "needs_background": "light"
          }
        }
      ]
    },
    {
      "cell_type": "markdown",
      "source": [
        "Install sklearn"
      ],
      "metadata": {
        "id": "tU6s0D6qmoe-"
      }
    },
    {
      "cell_type": "code",
      "source": [
        "!pip install -q sklearn"
      ],
      "metadata": {
        "colab": {
          "base_uri": "https://localhost:8080/"
        },
        "id": "CSDB17U7mqgR",
        "outputId": "ad776383-8472-4012-a614-63a8f68406ea"
      },
      "execution_count": 13,
      "outputs": [
        {
          "output_type": "stream",
          "name": "stdout",
          "text": [
            "  Building wheel for sklearn (setup.py) ... \u001b[?25l\u001b[?25hdone\n"
          ]
        }
      ]
    },
    {
      "cell_type": "code",
      "source": [
        "from __future__ import absolute_import, division, print_function, unicode_literals\n",
        "\n",
        "import numpy as np\n",
        "import pandas as pd\n",
        "from IPython.display import clear_output\n",
        "from six.moves import urllib\n",
        "\n",
        "import tensorflow.compat.v2.feature_column as fc \n"
      ],
      "metadata": {
        "id": "iyM9owOumvS1"
      },
      "execution_count": 14,
      "outputs": []
    },
    {
      "cell_type": "markdown",
      "source": [
        "Load dataset "
      ],
      "metadata": {
        "id": "zhWmQRb2noV8"
      }
    },
    {
      "cell_type": "code",
      "source": [
        "dftrain = pd.read_csv('https://storage.googleapis.com/tf-datasets/titanic/train.csv')\n",
        "dfeval = pd.read_csv('https://storage.googleapis.com/tf-datasets/titanic/eval.csv')\n",
        "print(dftrain.head())\n",
        "y_train = dftrain.pop('survived')\n",
        "y_eval = dfeval.pop('survived')\n",
        "print(dftrain.head())"
      ],
      "metadata": {
        "colab": {
          "base_uri": "https://localhost:8080/"
        },
        "id": "RjVWhylPnprO",
        "outputId": "da2daebd-c764-481b-8fdb-2340314d0b91"
      },
      "execution_count": 15,
      "outputs": [
        {
          "output_type": "stream",
          "name": "stdout",
          "text": [
            "   survived     sex   age  n_siblings_spouses  parch     fare  class     deck  \\\n",
            "0         0    male  22.0                   1      0   7.2500  Third  unknown   \n",
            "1         1  female  38.0                   1      0  71.2833  First        C   \n",
            "2         1  female  26.0                   0      0   7.9250  Third  unknown   \n",
            "3         1  female  35.0                   1      0  53.1000  First        C   \n",
            "4         0    male  28.0                   0      0   8.4583  Third  unknown   \n",
            "\n",
            "   embark_town alone  \n",
            "0  Southampton     n  \n",
            "1    Cherbourg     n  \n",
            "2  Southampton     y  \n",
            "3  Southampton     n  \n",
            "4   Queenstown     y  \n",
            "      sex   age  n_siblings_spouses  parch     fare  class     deck  \\\n",
            "0    male  22.0                   1      0   7.2500  Third  unknown   \n",
            "1  female  38.0                   1      0  71.2833  First        C   \n",
            "2  female  26.0                   0      0   7.9250  Third  unknown   \n",
            "3  female  35.0                   1      0  53.1000  First        C   \n",
            "4    male  28.0                   0      0   8.4583  Third  unknown   \n",
            "\n",
            "   embark_town alone  \n",
            "0  Southampton     n  \n",
            "1    Cherbourg     n  \n",
            "2  Southampton     y  \n",
            "3  Southampton     n  \n",
            "4   Queenstown     y  \n"
          ]
        }
      ]
    },
    {
      "cell_type": "code",
      "source": [
        "dftrain.age.hist(bins=20)"
      ],
      "metadata": {
        "colab": {
          "base_uri": "https://localhost:8080/",
          "height": 282
        },
        "id": "vbgPcoY0qOJl",
        "outputId": "3df0e2a4-c0c6-42a8-b98f-6555244dd468"
      },
      "execution_count": 16,
      "outputs": [
        {
          "output_type": "execute_result",
          "data": {
            "text/plain": [
              "<matplotlib.axes._subplots.AxesSubplot at 0x7f669218d820>"
            ]
          },
          "metadata": {},
          "execution_count": 16
        },
        {
          "output_type": "display_data",
          "data": {
            "text/plain": [
              "<Figure size 432x288 with 1 Axes>"
            ],
            "image/png": "[encoded data removed]"
          },
          "metadata": {
            "needs_background": "light"
          }
        }
      ]
    },
    {
      "cell_type": "code",
      "source": [
        "CATEGORICAL_COLUMNS = ['sex', 'n_siblings_spouses', 'parch', 'class', 'deck', 'embark_town', 'alone']\n",
        "NUMERIC_COLUMNS = ['age', 'fare']\n"
      ],
      "metadata": {
        "id": "yUpVTpnVrPuu"
      },
      "execution_count": 17,
      "outputs": []
    },
    {
      "cell_type": "markdown",
      "source": [
        "#### Define Features \n",
        "using TF, create features "
      ],
      "metadata": {
        "id": "MrzjjKhiskTs"
      }
    },
    {
      "cell_type": "code",
      "source": [
        "from tensorflow.python.feature_column import feature_column\n",
        "feature_columns = []\n",
        "\n",
        "for feature_name in CATEGORICAL_COLUMNS:\n",
        "  vocabulary = dftrain[feature_name].unique() # gets a list of all unique values from a column \n",
        "  feature_columns.append(tf.feature_column.categorical_column_with_vocabulary_list(feature_name, vocabulary))\n",
        "\n",
        "for feature_name in NUMERIC_COLUMNS:\n",
        "  feature_columns.append(tf.feature_column.numeric_column(feature_name, dtype=tf.float32))\n",
        "\n",
        "print(feature_columns)"
      ],
      "metadata": {
        "colab": {
          "base_uri": "https://localhost:8080/"
        },
        "id": "5-k8tpZbrjh-",
        "outputId": "e026e6b3-07f3-4b08-ed91-7483ba8f65bb"
      },
      "execution_count": 18,
      "outputs": [
        {
          "output_type": "stream",
          "name": "stdout",
          "text": [
            "[VocabularyListCategoricalColumn(key='sex', vocabulary_list=('male', 'female'), dtype=tf.string, default_value=-1, num_oov_buckets=0), VocabularyListCategoricalColumn(key='n_siblings_spouses', vocabulary_list=(1, 0, 3, 4, 2, 5, 8), dtype=tf.int64, default_value=-1, num_oov_buckets=0), VocabularyListCategoricalColumn(key='parch', vocabulary_list=(0, 1, 2, 5, 3, 4), dtype=tf.int64, default_value=-1, num_oov_buckets=0), VocabularyListCategoricalColumn(key='class', vocabulary_list=('Third', 'First', 'Second'), dtype=tf.string, default_value=-1, num_oov_buckets=0), VocabularyListCategoricalColumn(key='deck', vocabulary_list=('unknown', 'C', 'G', 'A', 'B', 'D', 'F', 'E'), dtype=tf.string, default_value=-1, num_oov_buckets=0), VocabularyListCategoricalColumn(key='embark_town', vocabulary_list=('Southampton', 'Cherbourg', 'Queenstown', 'unknown'), dtype=tf.string, default_value=-1, num_oov_buckets=0), VocabularyListCategoricalColumn(key='alone', vocabulary_list=('n', 'y'), dtype=tf.string, default_value=-1, num_oov_buckets=0), NumericColumn(key='age', shape=(1,), default_value=None, dtype=tf.float32, normalizer_fn=None), NumericColumn(key='fare', shape=(1,), default_value=None, dtype=tf.float32, normalizer_fn=None)]\n"
          ]
        }
      ]
    },
    {
      "cell_type": "markdown",
      "source": [
        "#### Training Process"
      ],
      "metadata": {
        "id": "3utmQ8O3uBaY"
      }
    },
    {
      "cell_type": "markdown",
      "source": [
        "##### Input Function\n",
        "Define input function "
      ],
      "metadata": {
        "id": "0A0mEtQkzGvb"
      }
    },
    {
      "cell_type": "code",
      "source": [
        "# input function factory \n",
        "def make_input_fn(data_df, label_df, num_epochs=10, shuffle=True, batch_size=32):\n",
        "  \"\"\"Make input function and return\"\"\"\n",
        "  # function to be returned\n",
        "  def input_function():\n",
        "    # create tf.data.Dataset object \n",
        "    ds = tf.data.Dataset.from_tensor_slices((dict(data_df), label_df))\n",
        "\n",
        "    # if shuffle set to true, shuffle data\n",
        "    if shuffle:\n",
        "      ds = ds.shuffle(1000) # not sure what this 1000, is it a seed?\n",
        "    \n",
        "    # split data into batches and repeat into epochs\n",
        "    ds = ds.batch(batch_size).repeat(num_epochs)\n",
        "    \n",
        "    # return dataset \n",
        "    return ds \n",
        "\n",
        "  # return input function \n",
        "  return input_function "
      ],
      "metadata": {
        "id": "Xne0SNa4uNx1"
      },
      "execution_count": 19,
      "outputs": []
    },
    {
      "cell_type": "markdown",
      "source": [
        "Prepare input functions for training and evaluation "
      ],
      "metadata": {
        "id": "uVaq77DP0ZE7"
      }
    },
    {
      "cell_type": "code",
      "source": [
        "train_input_fn = make_input_fn(dftrain, y_train)\n",
        "eval_input_fn = make_input_fn(dfeval, y_eval, num_epochs=1, shuffle=False)"
      ],
      "metadata": {
        "id": "_b98zO-o0di2"
      },
      "execution_count": 20,
      "outputs": []
    },
    {
      "cell_type": "markdown",
      "source": [
        "##### Create Model"
      ],
      "metadata": {
        "id": "NggC2ioY0uuK"
      }
    },
    {
      "cell_type": "code",
      "source": [
        "# linear estimator \n",
        "linear_est = tf.estimator.LinearClassifier(feature_columns=feature_columns)\n"
      ],
      "metadata": {
        "colab": {
          "base_uri": "https://localhost:8080/"
        },
        "id": "hyFHzN6T1fyl",
        "outputId": "ad981f3c-62a8-4eef-d159-cdbae7af8768"
      },
      "execution_count": 21,
      "outputs": [
        {
          "output_type": "stream",
          "name": "stderr",
          "text": [
            "WARNING:tensorflow:Using temporary folder as model directory: /tmp/tmp04gw5_aq\n"
          ]
        }
      ]
    },
    {
      "cell_type": "markdown",
      "source": [
        "##### Train the Model"
      ],
      "metadata": {
        "id": "m3TTjsfM11J1"
      }
    },
    {
      "cell_type": "code",
      "source": [
        "linear_est.train(train_input_fn)"
      ],
      "metadata": {
        "colab": {
          "base_uri": "https://localhost:8080/"
        },
        "id": "3sYH-tRo16tT",
        "outputId": "14e01174-8cf5-4655-c8b8-96a2735081df"
      },
      "execution_count": 22,
      "outputs": [
        {
          "output_type": "stream",
          "name": "stderr",
          "text": [
            "WARNING:tensorflow:From /usr/local/lib/python3.8/dist-packages/tensorflow/python/training/training_util.py:396: Variable.initialized_value (from tensorflow.python.ops.variables) is deprecated and will be removed in a future version.\n",
            "Instructions for updating:\n",
            "Use Variable.read_value. Variables in 2.X are initialized automatically both in eager and graph (inside tf.defun) contexts.\n",
            "WARNING:tensorflow:From /usr/local/lib/python3.8/dist-packages/keras/optimizers/optimizer_v2/ftrl.py:153: calling Constant.__init__ (from tensorflow.python.ops.init_ops) with dtype is deprecated and will be removed in a future version.\n",
            "Instructions for updating:\n",
            "Call initializer instance with the dtype argument instead of passing it to the constructor\n"
          ]
        },
        {
          "output_type": "execute_result",
          "data": {
            "text/plain": [
              "<tensorflow_estimator.python.estimator.canned.linear.LinearClassifierV2 at 0x7f6691fb17c0>"
            ]
          },
          "metadata": {},
          "execution_count": 22
        }
      ]
    },
    {
      "cell_type": "markdown",
      "source": [
        "##### Evaluate the Model"
      ],
      "metadata": {
        "id": "GbJoTQfn2KMa"
      }
    },
    {
      "cell_type": "code",
      "source": [
        "result = linear_est.evaluate(eval_input_fn)"
      ],
      "metadata": {
        "id": "bvaLOEXg2Nyy"
      },
      "execution_count": 23,
      "outputs": []
    },
    {
      "cell_type": "markdown",
      "source": [
        "#### Result"
      ],
      "metadata": {
        "id": "YZnI8Oa82VMB"
      }
    },
    {
      "cell_type": "code",
      "source": [
        "clear_output()\n",
        "print(result['accuracy'])\n",
        "print(result)"
      ],
      "metadata": {
        "colab": {
          "base_uri": "https://localhost:8080/"
        },
        "id": "112DP_j72W6a",
        "outputId": "7411d744-8872-4dd0-d5be-c02168084a57"
      },
      "execution_count": 24,
      "outputs": [
        {
          "output_type": "stream",
          "name": "stdout",
          "text": [
            "0.75\n",
            "{'accuracy': 0.75, 'accuracy_baseline': 0.625, 'auc': 0.82812977, 'auc_precision_recall': 0.78557795, 'average_loss': 0.5102476, 'label/mean': 0.375, 'loss': 0.5074883, 'precision': 0.6386555, 'prediction/mean': 0.46456918, 'recall': 0.7676768, 'global_step': 200}\n"
          ]
        }
      ]
    },
    {
      "cell_type": "markdown",
      "source": [
        "##### Show Results "
      ],
      "metadata": {
        "id": "grnTDHNSU8SB"
      }
    },
    {
      "cell_type": "code",
      "source": [
        "result = list(linear_est.predict(eval_input_fn))\n",
        "\n",
        "# match prbability with actual y \n",
        "for idx in range(len(y_eval)):\n",
        "  print(\"pax [\"+ str(idx) + \"] actual \"+str(y_eval.loc[idx])+ \" pct survival \"+ str(result[idx]['probabilities'][1]))"
      ],
      "metadata": {
        "colab": {
          "base_uri": "https://localhost:8080/"
        },
        "id": "MD4IGH8LVHx9",
        "outputId": "204bc79f-9c59-4ef4-c670-d3f0bce82fa6"
      },
      "execution_count": 25,
      "outputs": [
        {
          "output_type": "stream",
          "name": "stdout",
          "text": [
            "pax [0] actual 0 pct survival 0.117702745\n",
            "pax [1] actual 0 pct survival 0.6204206\n",
            "pax [2] actual 1 pct survival 0.86169314\n",
            "pax [3] actual 1 pct survival 0.7966589\n",
            "pax [4] actual 1 pct survival 0.37439656\n",
            "pax [5] actual 1 pct survival 0.7909877\n",
            "pax [6] actual 0 pct survival 0.64779997\n",
            "pax [7] actual 0 pct survival 0.14024758\n",
            "pax [8] actual 0 pct survival 0.6847943\n",
            "pax [9] actual 1 pct survival 0.78093314\n",
            "pax [10] actual 1 pct survival 0.7576471\n",
            "pax [11] actual 0 pct survival 0.13978386\n",
            "pax [12] actual 1 pct survival 0.89213705\n",
            "pax [13] actual 0 pct survival 0.50773\n",
            "pax [14] actual 1 pct survival 0.8904476\n",
            "pax [15] actual 0 pct survival 0.6971543\n",
            "pax [16] actual 0 pct survival 0.23070422\n",
            "pax [17] actual 1 pct survival 0.8613733\n",
            "pax [18] actual 1 pct survival 0.5023786\n",
            "pax [19] actual 0 pct survival 0.12695356\n",
            "pax [20] actual 0 pct survival 0.14162178\n",
            "pax [21] actual 0 pct survival 0.13655056\n",
            "pax [22] actual 1 pct survival 0.72209555\n",
            "pax [23] actual 0 pct survival 0.113061704\n",
            "pax [24] actual 0 pct survival 0.740634\n",
            "pax [25] actual 0 pct survival 0.65367943\n",
            "pax [26] actual 0 pct survival 0.3974703\n",
            "pax [27] actual 0 pct survival 0.62506706\n",
            "pax [28] actual 1 pct survival 0.25870773\n",
            "pax [29] actual 1 pct survival 0.90586483\n",
            "pax [30] actual 0 pct survival 0.18962467\n",
            "pax [31] actual 1 pct survival 0.874312\n",
            "pax [32] actual 0 pct survival 0.2642579\n",
            "pax [33] actual 1 pct survival 0.74736637\n",
            "pax [34] actual 0 pct survival 0.40971118\n",
            "pax [35] actual 1 pct survival 0.12972976\n",
            "pax [36] actual 0 pct survival 0.28477004\n",
            "pax [37] actual 0 pct survival 0.21956801\n",
            "pax [38] actual 1 pct survival 0.95302844\n",
            "pax [39] actual 0 pct survival 0.12536974\n",
            "pax [40] actual 1 pct survival 0.8288059\n",
            "pax [41] actual 1 pct survival 0.13923554\n",
            "pax [42] actual 0 pct survival 0.64799756\n",
            "pax [43] actual 0 pct survival 0.3699806\n",
            "pax [44] actual 0 pct survival 0.44619986\n",
            "pax [45] actual 1 pct survival 0.81796175\n",
            "pax [46] actual 0 pct survival 0.14001559\n",
            "pax [47] actual 0 pct survival 0.5302651\n",
            "pax [48] actual 1 pct survival 0.48526296\n",
            "pax [49] actual 0 pct survival 0.57084364\n",
            "pax [50] actual 0 pct survival 0.18531618\n",
            "pax [51] actual 0 pct survival 0.28135404\n",
            "pax [52] actual 0 pct survival 0.10682188\n",
            "pax [53] actual 0 pct survival 0.16214333\n",
            "pax [54] actual 1 pct survival 0.14552549\n",
            "pax [55] actual 0 pct survival 0.13334055\n",
            "pax [56] actual 0 pct survival 0.25053015\n",
            "pax [57] actual 1 pct survival 0.9842621\n",
            "pax [58] actual 0 pct survival 0.2587094\n",
            "pax [59] actual 0 pct survival 0.12828855\n",
            "pax [60] actual 1 pct survival 0.5905976\n",
            "pax [61] actual 1 pct survival 0.6442562\n",
            "pax [62] actual 0 pct survival 0.2595901\n",
            "pax [63] actual 1 pct survival 0.86124575\n",
            "pax [64] actual 0 pct survival 0.24602377\n",
            "pax [65] actual 0 pct survival 0.71081364\n",
            "pax [66] actual 1 pct survival 0.644558\n",
            "pax [67] actual 0 pct survival 0.23257898\n",
            "pax [68] actual 0 pct survival 0.26848572\n",
            "pax [69] actual 1 pct survival 0.7539005\n",
            "pax [70] actual 1 pct survival 0.97854406\n",
            "pax [71] actual 0 pct survival 0.76039755\n",
            "pax [72] actual 0 pct survival 0.102844\n",
            "pax [73] actual 1 pct survival 0.14374813\n",
            "pax [74] actual 0 pct survival 0.19144626\n",
            "pax [75] actual 1 pct survival 0.12783962\n",
            "pax [76] actual 0 pct survival 0.13824101\n",
            "pax [77] actual 1 pct survival 0.21956801\n",
            "pax [78] actual 1 pct survival 0.7731216\n",
            "pax [79] actual 1 pct survival 0.9903462\n",
            "pax [80] actual 0 pct survival 0.7171294\n",
            "pax [81] actual 0 pct survival 0.50773\n",
            "pax [82] actual 0 pct survival 0.2097824\n",
            "pax [83] actual 0 pct survival 0.98796046\n",
            "pax [84] actual 1 pct survival 0.14464849\n",
            "pax [85] actual 1 pct survival 0.83871377\n",
            "pax [86] actual 1 pct survival 0.70810395\n",
            "pax [87] actual 0 pct survival 0.19385095\n",
            "pax [88] actual 1 pct survival 0.875713\n",
            "pax [89] actual 1 pct survival 0.90309906\n",
            "pax [90] actual 1 pct survival 0.9837495\n",
            "pax [91] actual 0 pct survival 0.3240478\n",
            "pax [92] actual 0 pct survival 0.12242634\n",
            "pax [93] actual 1 pct survival 0.9948365\n",
            "pax [94] actual 1 pct survival 0.53853494\n",
            "pax [95] actual 1 pct survival 0.99232787\n",
            "pax [96] actual 1 pct survival 0.22671033\n",
            "pax [97] actual 0 pct survival 0.1085637\n",
            "pax [98] actual 0 pct survival 0.13897048\n",
            "pax [99] actual 0 pct survival 0.40523857\n",
            "pax [100] actual 0 pct survival 0.12402461\n",
            "pax [101] actual 1 pct survival 0.8242154\n",
            "pax [102] actual 0 pct survival 0.8556362\n",
            "pax [103] actual 0 pct survival 0.6640099\n",
            "pax [104] actual 1 pct survival 0.7179573\n",
            "pax [105] actual 0 pct survival 0.2099034\n",
            "pax [106] actual 1 pct survival 0.82192254\n",
            "pax [107] actual 1 pct survival 0.93018997\n",
            "pax [108] actual 1 pct survival 0.83093816\n",
            "pax [109] actual 0 pct survival 0.09135059\n",
            "pax [110] actual 1 pct survival 0.8457738\n",
            "pax [111] actual 0 pct survival 0.73786473\n",
            "pax [112] actual 0 pct survival 0.72806835\n",
            "pax [113] actual 0 pct survival 0.09544845\n",
            "pax [114] actual 1 pct survival 0.9705884\n",
            "pax [115] actual 0 pct survival 0.7298969\n",
            "pax [116] actual 0 pct survival 0.12665506\n",
            "pax [117] actual 0 pct survival 0.7622447\n",
            "pax [118] actual 0 pct survival 0.1271801\n",
            "pax [119] actual 1 pct survival 0.8758823\n",
            "pax [120] actual 0 pct survival 0.6870612\n",
            "pax [121] actual 0 pct survival 0.13842617\n",
            "pax [122] actual 1 pct survival 0.67871493\n",
            "pax [123] actual 1 pct survival 0.8817082\n",
            "pax [124] actual 0 pct survival 0.15660474\n",
            "pax [125] actual 0 pct survival 0.12855442\n",
            "pax [126] actual 1 pct survival 0.7945621\n",
            "pax [127] actual 0 pct survival 0.16322109\n",
            "pax [128] actual 0 pct survival 0.20515445\n",
            "pax [129] actual 0 pct survival 0.21971667\n",
            "pax [130] actual 0 pct survival 0.11425151\n",
            "pax [131] actual 0 pct survival 0.7259582\n",
            "pax [132] actual 0 pct survival 0.13755423\n",
            "pax [133] actual 0 pct survival 0.09710048\n",
            "pax [134] actual 0 pct survival 0.12536974\n",
            "pax [135] actual 0 pct survival 0.13876817\n",
            "pax [136] actual 0 pct survival 0.3013445\n",
            "pax [137] actual 0 pct survival 0.2176314\n",
            "pax [138] actual 1 pct survival 0.98009527\n",
            "pax [139] actual 0 pct survival 0.14121972\n",
            "pax [140] actual 0 pct survival 0.13467385\n",
            "pax [141] actual 0 pct survival 0.7573052\n",
            "pax [142] actual 1 pct survival 0.98238444\n",
            "pax [143] actual 0 pct survival 0.1556688\n",
            "pax [144] actual 1 pct survival 0.1612684\n",
            "pax [145] actual 0 pct survival 0.12855442\n",
            "pax [146] actual 1 pct survival 0.58805966\n",
            "pax [147] actual 0 pct survival 0.20071799\n",
            "pax [148] actual 0 pct survival 0.19925585\n",
            "pax [149] actual 0 pct survival 0.11167367\n",
            "pax [150] actual 0 pct survival 0.1992662\n",
            "pax [151] actual 0 pct survival 0.14010249\n",
            "pax [152] actual 1 pct survival 0.29364604\n",
            "pax [153] actual 0 pct survival 0.25954393\n",
            "pax [154] actual 1 pct survival 0.4484025\n",
            "pax [155] actual 1 pct survival 0.21336627\n",
            "pax [156] actual 0 pct survival 0.26675788\n",
            "pax [157] actual 0 pct survival 0.2574334\n",
            "pax [158] actual 0 pct survival 0.7027601\n",
            "pax [159] actual 0 pct survival 0.1992662\n",
            "pax [160] actual 1 pct survival 0.7576471\n",
            "pax [161] actual 0 pct survival 0.15641607\n",
            "pax [162] actual 1 pct survival 0.97313815\n",
            "pax [163] actual 0 pct survival 0.82364905\n",
            "pax [164] actual 1 pct survival 0.12204635\n",
            "pax [165] actual 1 pct survival 0.98438555\n",
            "pax [166] actual 0 pct survival 0.22438033\n",
            "pax [167] actual 0 pct survival 0.20293722\n",
            "pax [168] actual 1 pct survival 0.978915\n",
            "pax [169] actual 0 pct survival 0.13852423\n",
            "pax [170] actual 1 pct survival 0.8530899\n",
            "pax [171] actual 0 pct survival 0.12828855\n",
            "pax [172] actual 0 pct survival 0.4308207\n",
            "pax [173] actual 0 pct survival 0.10492464\n",
            "pax [174] actual 0 pct survival 0.16322109\n",
            "pax [175] actual 0 pct survival 0.74263954\n",
            "pax [176] actual 1 pct survival 0.9353669\n",
            "pax [177] actual 0 pct survival 0.22816432\n",
            "pax [178] actual 1 pct survival 0.58980423\n",
            "pax [179] actual 0 pct survival 0.13988431\n",
            "pax [180] actual 0 pct survival 0.15587775\n",
            "pax [181] actual 0 pct survival 0.28258535\n",
            "pax [182] actual 0 pct survival 0.3319652\n",
            "pax [183] actual 1 pct survival 0.98488533\n",
            "pax [184] actual 0 pct survival 0.60870534\n",
            "pax [185] actual 0 pct survival 0.14345601\n",
            "pax [186] actual 1 pct survival 0.5486498\n",
            "pax [187] actual 1 pct survival 0.75787103\n",
            "pax [188] actual 0 pct survival 0.78041446\n",
            "pax [189] actual 0 pct survival 0.26988202\n",
            "pax [190] actual 0 pct survival 0.76579946\n",
            "pax [191] actual 0 pct survival 0.17316642\n",
            "pax [192] actual 0 pct survival 0.36030316\n",
            "pax [193] actual 1 pct survival 0.936967\n",
            "pax [194] actual 0 pct survival 0.15329848\n",
            "pax [195] actual 0 pct survival 0.13429351\n",
            "pax [196] actual 0 pct survival 0.7660297\n",
            "pax [197] actual 0 pct survival 0.7587415\n",
            "pax [198] actual 0 pct survival 0.45010307\n",
            "pax [199] actual 0 pct survival 0.13907641\n",
            "pax [200] actual 0 pct survival 0.20622174\n",
            "pax [201] actual 0 pct survival 0.19715863\n",
            "pax [202] actual 0 pct survival 0.10492464\n",
            "pax [203] actual 0 pct survival 0.15707995\n",
            "pax [204] actual 1 pct survival 0.99772197\n",
            "pax [205] actual 0 pct survival 0.83537483\n",
            "pax [206] actual 0 pct survival 0.13686572\n",
            "pax [207] actual 1 pct survival 0.8131629\n",
            "pax [208] actual 1 pct survival 0.56703174\n",
            "pax [209] actual 0 pct survival 0.19594228\n",
            "pax [210] actual 0 pct survival 0.15128022\n",
            "pax [211] actual 0 pct survival 0.23989539\n",
            "pax [212] actual 0 pct survival 0.14314225\n",
            "pax [213] actual 1 pct survival 0.7576118\n",
            "pax [214] actual 0 pct survival 0.1422198\n",
            "pax [215] actual 0 pct survival 0.7332553\n",
            "pax [216] actual 1 pct survival 0.5424792\n",
            "pax [217] actual 1 pct survival 0.123594135\n",
            "pax [218] actual 0 pct survival 0.2064048\n",
            "pax [219] actual 1 pct survival 0.8427046\n",
            "pax [220] actual 0 pct survival 0.6686299\n",
            "pax [221] actual 0 pct survival 0.15741964\n",
            "pax [222] actual 1 pct survival 0.39064997\n",
            "pax [223] actual 0 pct survival 0.2795901\n",
            "pax [224] actual 1 pct survival 0.97762024\n",
            "pax [225] actual 1 pct survival 0.9836623\n",
            "pax [226] actual 0 pct survival 0.14859815\n",
            "pax [227] actual 0 pct survival 0.75099134\n",
            "pax [228] actual 0 pct survival 0.13776276\n",
            "pax [229] actual 0 pct survival 0.19925585\n",
            "pax [230] actual 1 pct survival 0.8205774\n",
            "pax [231] actual 0 pct survival 0.16319478\n",
            "pax [232] actual 1 pct survival 0.99609774\n",
            "pax [233] actual 1 pct survival 0.8318629\n",
            "pax [234] actual 0 pct survival 0.13204177\n",
            "pax [235] actual 1 pct survival 0.73019344\n",
            "pax [236] actual 0 pct survival 0.16582231\n",
            "pax [237] actual 1 pct survival 0.27111542\n",
            "pax [238] actual 1 pct survival 0.12830888\n",
            "pax [239] actual 0 pct survival 0.73103994\n",
            "pax [240] actual 0 pct survival 0.64055777\n",
            "pax [241] actual 0 pct survival 0.10396297\n",
            "pax [242] actual 0 pct survival 0.25438914\n",
            "pax [243] actual 1 pct survival 0.8728573\n",
            "pax [244] actual 1 pct survival 0.46336335\n",
            "pax [245] actual 1 pct survival 0.9697933\n",
            "pax [246] actual 1 pct survival 0.40578723\n",
            "pax [247] actual 1 pct survival 0.22706446\n",
            "pax [248] actual 0 pct survival 0.14175442\n",
            "pax [249] actual 0 pct survival 0.14851028\n",
            "pax [250] actual 0 pct survival 0.07050889\n",
            "pax [251] actual 0 pct survival 0.8793805\n",
            "pax [252] actual 0 pct survival 0.84866095\n",
            "pax [253] actual 0 pct survival 0.1992662\n",
            "pax [254] actual 0 pct survival 0.28027833\n",
            "pax [255] actual 1 pct survival 0.9305109\n",
            "pax [256] actual 0 pct survival 0.6984129\n",
            "pax [257] actual 0 pct survival 0.13107765\n",
            "pax [258] actual 1 pct survival 0.9627312\n",
            "pax [259] actual 1 pct survival 0.87396055\n",
            "pax [260] actual 0 pct survival 0.12046764\n",
            "pax [261] actual 0 pct survival 0.70909727\n",
            "pax [262] actual 0 pct survival 0.2587094\n",
            "pax [263] actual 1 pct survival 0.5258724\n"
          ]
        }
      ]
    },
    {
      "cell_type": "markdown",
      "source": [
        "### Classification\n",
        "\n",
        "Classification using IRIS Dataset\n",
        "Attempt to classify species to be on of:\n",
        "* Setosa\n",
        "* Versicolor\n",
        "* Virginica \n",
        "\n",
        "Given the following charactaristics \n",
        "* Sepal length\n",
        "* Sepal width\n",
        "* Petal length \n",
        "* Petal width "
      ],
      "metadata": {
        "id": "OBV4mvr9JwEv"
      }
    },
    {
      "cell_type": "code",
      "source": [
        "CSV_COLUMN_NAMES = ['SepalLength', 'SepalWidth', 'PetalLength', 'PetalWidth', 'Species']\n",
        "SPECIES = ['Setosa', 'Versicolor', 'Virginica']"
      ],
      "metadata": {
        "id": "H5OSehttJzJq"
      },
      "execution_count": 26,
      "outputs": []
    },
    {
      "cell_type": "markdown",
      "source": [
        "Load Dataset"
      ],
      "metadata": {
        "id": "A2CqKkb8LLl3"
      }
    },
    {
      "cell_type": "code",
      "source": [
        "# Load Dataset \n",
        "train_path = tf.keras.utils.get_file(\n",
        "    \"iris_training.csv\", \"https://storage.googleapis.com/download.tensorflow.org/data/iris_training.csv\")\n",
        "test_path = tf.keras.utils.get_file(\n",
        "    \"iris_test.csv\", \"https://storage.googleapis.com/download.tensorflow.org/data/iris_test.csv\")\n"
      ],
      "metadata": {
        "id": "tpDtLVE_LNPD",
        "outputId": "9763c2d9-8a6a-420e-c5bf-9915d6f8ca8b",
        "colab": {
          "base_uri": "https://localhost:8080/"
        }
      },
      "execution_count": 27,
      "outputs": [
        {
          "output_type": "stream",
          "name": "stdout",
          "text": [
            "Downloading data from https://storage.googleapis.com/download.tensorflow.org/data/iris_training.csv\n",
            "2194/2194 [==============================] - 0s 0us/step\n",
            "Downloading data from https://storage.googleapis.com/download.tensorflow.org/data/iris_test.csv\n",
            "573/573 [==============================] - 0s 0us/step\n"
          ]
        }
      ]
    },
    {
      "cell_type": "code",
      "source": [
        "train = pd.read_csv(train_path, names=CSV_COLUMN_NAMES, header=0)\n",
        "test = pd.read_csv(test_path, names=CSV_COLUMN_NAMES, header=0)\n",
        "\n",
        "# inspect training data\n",
        "train.head()"
      ],
      "metadata": {
        "id": "lD9WTwFBL6VX",
        "outputId": "37877d3e-28a2-4f04-bc48-2d12f71474e4",
        "colab": {
          "base_uri": "https://localhost:8080/",
          "height": 206
        }
      },
      "execution_count": 31,
      "outputs": [
        {
          "output_type": "execute_result",
          "data": {
            "text/plain": [
              "   SepalLength  SepalWidth  PetalLength  PetalWidth  Species\n",
              "0          6.4         2.8          5.6         2.2        2\n",
              "1          5.0         2.3          3.3         1.0        1\n",
              "2          4.9         2.5          4.5         1.7        2\n",
              "3          4.9         3.1          1.5         0.1        0\n",
              "4          5.7         3.8          1.7         0.3        0"
            ],
            "text/html": [
              "\n",
              "  <div id=\"df-cecbc93d-3a18-4dc2-b881-5d4962650b58\">\n",
              "    <div class=\"colab-df-container\">\n",
              "      <div>\n",
              "<style scoped>\n",
              "    .dataframe tbody tr th:only-of-type {\n",
              "        vertical-align: middle;\n",
              "    }\n",
              "\n",
              "    .dataframe tbody tr th {\n",
              "        vertical-align: top;\n",
              "    }\n",
              "\n",
              "    .dataframe thead th {\n",
              "        text-align: right;\n",
              "    }\n",
              "</style>\n",
              "<table border=\"1\" class=\"dataframe\">\n",
              "  <thead>\n",
              "    <tr style=\"text-align: right;\">\n",
              "      <th></th>\n",
              "      <th>SepalLength</th>\n",
              "      <th>SepalWidth</th>\n",
              "      <th>PetalLength</th>\n",
              "      <th>PetalWidth</th>\n",
              "      <th>Species</th>\n",
              "    </tr>\n",
              "  </thead>\n",
              "  <tbody>\n",
              "    <tr>\n",
              "      <th>0</th>\n",
              "      <td>6.4</td>\n",
              "      <td>2.8</td>\n",
              "      <td>5.6</td>\n",
              "      <td>2.2</td>\n",
              "      <td>2</td>\n",
              "    </tr>\n",
              "    <tr>\n",
              "      <th>1</th>\n",
              "      <td>5.0</td>\n",
              "      <td>2.3</td>\n",
              "      <td>3.3</td>\n",
              "      <td>1.0</td>\n",
              "      <td>1</td>\n",
              "    </tr>\n",
              "    <tr>\n",
              "      <th>2</th>\n",
              "      <td>4.9</td>\n",
              "      <td>2.5</td>\n",
              "      <td>4.5</td>\n",
              "      <td>1.7</td>\n",
              "      <td>2</td>\n",
              "    </tr>\n",
              "    <tr>\n",
              "      <th>3</th>\n",
              "      <td>4.9</td>\n",
              "      <td>3.1</td>\n",
              "      <td>1.5</td>\n",
              "      <td>0.1</td>\n",
              "      <td>0</td>\n",
              "    </tr>\n",
              "    <tr>\n",
              "      <th>4</th>\n",
              "      <td>5.7</td>\n",
              "      <td>3.8</td>\n",
              "      <td>1.7</td>\n",
              "      <td>0.3</td>\n",
              "      <td>0</td>\n",
              "    </tr>\n",
              "  </tbody>\n",
              "</table>\n",
              "</div>\n",
              "      <button class=\"colab-df-convert\" onclick=\"convertToInteractive('df-cecbc93d-3a18-4dc2-b881-5d4962650b58')\"\n",
              "              title=\"Convert this dataframe to an interactive table.\"\n",
              "              style=\"display:none;\">\n",
              "        \n",
              "  <svg xmlns=\"http://www.w3.org/2000/svg\" height=\"24px\"viewBox=\"0 0 24 24\"\n",
              "       width=\"24px\">\n",
              "    <path d=\"M0 0h24v24H0V0z\" fill=\"none\"/>\n",
              "    <path d=\"M18.56 5.44l.94 2.06.94-2.06 2.06-.94-2.06-.94-.94-2.06-.94 2.06-2.06.94zm-11 1L8.5 8.5l.94-2.06 2.06-.94-2.06-.94L8.5 2.5l-.94 2.06-2.06.94zm10 10l.94 2.06.94-2.06 2.06-.94-2.06-.94-.94-2.06-.94 2.06-2.06.94z\"/><path d=\"M17.41 7.96l-1.37-1.37c-.4-.4-.92-.59-1.43-.59-.52 0-1.04.2-1.43.59L10.3 9.45l-7.72 7.72c-.78.78-.78 2.05 0 2.83L4 21.41c.39.39.9.59 1.41.59.51 0 1.02-.2 1.41-.59l7.78-7.78 2.81-2.81c.8-.78.8-2.07 0-2.86zM5.41 20L4 18.59l7.72-7.72 1.47 1.35L5.41 20z\"/>\n",
              "  </svg>\n",
              "      </button>\n",
              "      \n",
              "  <style>\n",
              "    .colab-df-container {\n",
              "      display:flex;\n",
              "      flex-wrap:wrap;\n",
              "      gap: 12px;\n",
              "    }\n",
              "\n",
              "    .colab-df-convert {\n",
              "      background-color: #E8F0FE;\n",
              "      border: none;\n",
              "      border-radius: 50%;\n",
              "      cursor: pointer;\n",
              "      display: none;\n",
              "      fill: #1967D2;\n",
              "      height: 32px;\n",
              "      padding: 0 0 0 0;\n",
              "      width: 32px;\n",
              "    }\n",
              "\n",
              "    .colab-df-convert:hover {\n",
              "      background-color: #E2EBFA;\n",
              "      box-shadow: 0px 1px 2px rgba(60, 64, 67, 0.3), 0px 1px 3px 1px rgba(60, 64, 67, 0.15);\n",
              "      fill: #174EA6;\n",
              "    }\n",
              "\n",
              "    [theme=dark] .colab-df-convert {\n",
              "      background-color: #3B4455;\n",
              "      fill: #D2E3FC;\n",
              "    }\n",
              "\n",
              "    [theme=dark] .colab-df-convert:hover {\n",
              "      background-color: #434B5C;\n",
              "      box-shadow: 0px 1px 3px 1px rgba(0, 0, 0, 0.15);\n",
              "      filter: drop-shadow(0px 1px 2px rgba(0, 0, 0, 0.3));\n",
              "      fill: #FFFFFF;\n",
              "    }\n",
              "  </style>\n",
              "\n",
              "      <script>\n",
              "        const buttonEl =\n",
              "          document.querySelector('#df-cecbc93d-3a18-4dc2-b881-5d4962650b58 button.colab-df-convert');\n",
              "        buttonEl.style.display =\n",
              "          google.colab.kernel.accessAllowed ? 'block' : 'none';\n",
              "\n",
              "        async function convertToInteractive(key) {\n",
              "          const element = document.querySelector('#df-cecbc93d-3a18-4dc2-b881-5d4962650b58');\n",
              "          const dataTable =\n",
              "            await google.colab.kernel.invokeFunction('convertToInteractive',\n",
              "                                                     [key], {});\n",
              "          if (!dataTable) return;\n",
              "\n",
              "          const docLinkHtml = 'Like what you see? Visit the ' +\n",
              "            '<a target=\"_blank\" href=https://colab.research.google.com/notebooks/data_table.ipynb>data table notebook</a>'\n",
              "            + ' to learn more about interactive tables.';\n",
              "          element.innerHTML = '';\n",
              "          dataTable['output_type'] = 'display_data';\n",
              "          await google.colab.output.renderOutput(dataTable, element);\n",
              "          const docLink = document.createElement('div');\n",
              "          docLink.innerHTML = docLinkHtml;\n",
              "          element.appendChild(docLink);\n",
              "        }\n",
              "      </script>\n",
              "    </div>\n",
              "  </div>\n",
              "  "
            ]
          },
          "metadata": {},
          "execution_count": 31
        }
      ]
    },
    {
      "cell_type": "markdown",
      "source": [
        "Separate labels from features"
      ],
      "metadata": {
        "id": "6AIMNQ9FO7GR"
      }
    },
    {
      "cell_type": "code",
      "source": [
        "\n",
        "train_y = train.pop('Species')\n",
        "test_y = test.pop('Species')\n",
        "\n",
        "train.head()"
      ],
      "metadata": {
        "id": "8wjo2pWSO_av",
        "outputId": "0f35f5a5-085f-49eb-fd11-31168dd488d1",
        "colab": {
          "base_uri": "https://localhost:8080/",
          "height": 206
        }
      },
      "execution_count": 33,
      "outputs": [
        {
          "output_type": "execute_result",
          "data": {
            "text/plain": [
              "   SepalLength  SepalWidth  PetalLength  PetalWidth\n",
              "0          6.4         2.8          5.6         2.2\n",
              "1          5.0         2.3          3.3         1.0\n",
              "2          4.9         2.5          4.5         1.7\n",
              "3          4.9         3.1          1.5         0.1\n",
              "4          5.7         3.8          1.7         0.3"
            ],
            "text/html": [
              "\n",
              "  <div id=\"df-34023cc4-89d9-4711-8638-4845bd3c6fa1\">\n",
              "    <div class=\"colab-df-container\">\n",
              "      <div>\n",
              "<style scoped>\n",
              "    .dataframe tbody tr th:only-of-type {\n",
              "        vertical-align: middle;\n",
              "    }\n",
              "\n",
              "    .dataframe tbody tr th {\n",
              "        vertical-align: top;\n",
              "    }\n",
              "\n",
              "    .dataframe thead th {\n",
              "        text-align: right;\n",
              "    }\n",
              "</style>\n",
              "<table border=\"1\" class=\"dataframe\">\n",
              "  <thead>\n",
              "    <tr style=\"text-align: right;\">\n",
              "      <th></th>\n",
              "      <th>SepalLength</th>\n",
              "      <th>SepalWidth</th>\n",
              "      <th>PetalLength</th>\n",
              "      <th>PetalWidth</th>\n",
              "    </tr>\n",
              "  </thead>\n",
              "  <tbody>\n",
              "    <tr>\n",
              "      <th>0</th>\n",
              "      <td>6.4</td>\n",
              "      <td>2.8</td>\n",
              "      <td>5.6</td>\n",
              "      <td>2.2</td>\n",
              "    </tr>\n",
              "    <tr>\n",
              "      <th>1</th>\n",
              "      <td>5.0</td>\n",
              "      <td>2.3</td>\n",
              "      <td>3.3</td>\n",
              "      <td>1.0</td>\n",
              "    </tr>\n",
              "    <tr>\n",
              "      <th>2</th>\n",
              "      <td>4.9</td>\n",
              "      <td>2.5</td>\n",
              "      <td>4.5</td>\n",
              "      <td>1.7</td>\n",
              "    </tr>\n",
              "    <tr>\n",
              "      <th>3</th>\n",
              "      <td>4.9</td>\n",
              "      <td>3.1</td>\n",
              "      <td>1.5</td>\n",
              "      <td>0.1</td>\n",
              "    </tr>\n",
              "    <tr>\n",
              "      <th>4</th>\n",
              "      <td>5.7</td>\n",
              "      <td>3.8</td>\n",
              "      <td>1.7</td>\n",
              "      <td>0.3</td>\n",
              "    </tr>\n",
              "  </tbody>\n",
              "</table>\n",
              "</div>\n",
              "      <button class=\"colab-df-convert\" onclick=\"convertToInteractive('df-34023cc4-89d9-4711-8638-4845bd3c6fa1')\"\n",
              "              title=\"Convert this dataframe to an interactive table.\"\n",
              "              style=\"display:none;\">\n",
              "        \n",
              "  <svg xmlns=\"http://www.w3.org/2000/svg\" height=\"24px\"viewBox=\"0 0 24 24\"\n",
              "       width=\"24px\">\n",
              "    <path d=\"M0 0h24v24H0V0z\" fill=\"none\"/>\n",
              "    <path d=\"M18.56 5.44l.94 2.06.94-2.06 2.06-.94-2.06-.94-.94-2.06-.94 2.06-2.06.94zm-11 1L8.5 8.5l.94-2.06 2.06-.94-2.06-.94L8.5 2.5l-.94 2.06-2.06.94zm10 10l.94 2.06.94-2.06 2.06-.94-2.06-.94-.94-2.06-.94 2.06-2.06.94z\"/><path d=\"M17.41 7.96l-1.37-1.37c-.4-.4-.92-.59-1.43-.59-.52 0-1.04.2-1.43.59L10.3 9.45l-7.72 7.72c-.78.78-.78 2.05 0 2.83L4 21.41c.39.39.9.59 1.41.59.51 0 1.02-.2 1.41-.59l7.78-7.78 2.81-2.81c.8-.78.8-2.07 0-2.86zM5.41 20L4 18.59l7.72-7.72 1.47 1.35L5.41 20z\"/>\n",
              "  </svg>\n",
              "      </button>\n",
              "      \n",
              "  <style>\n",
              "    .colab-df-container {\n",
              "      display:flex;\n",
              "      flex-wrap:wrap;\n",
              "      gap: 12px;\n",
              "    }\n",
              "\n",
              "    .colab-df-convert {\n",
              "      background-color: #E8F0FE;\n",
              "      border: none;\n",
              "      border-radius: 50%;\n",
              "      cursor: pointer;\n",
              "      display: none;\n",
              "      fill: #1967D2;\n",
              "      height: 32px;\n",
              "      padding: 0 0 0 0;\n",
              "      width: 32px;\n",
              "    }\n",
              "\n",
              "    .colab-df-convert:hover {\n",
              "      background-color: #E2EBFA;\n",
              "      box-shadow: 0px 1px 2px rgba(60, 64, 67, 0.3), 0px 1px 3px 1px rgba(60, 64, 67, 0.15);\n",
              "      fill: #174EA6;\n",
              "    }\n",
              "\n",
              "    [theme=dark] .colab-df-convert {\n",
              "      background-color: #3B4455;\n",
              "      fill: #D2E3FC;\n",
              "    }\n",
              "\n",
              "    [theme=dark] .colab-df-convert:hover {\n",
              "      background-color: #434B5C;\n",
              "      box-shadow: 0px 1px 3px 1px rgba(0, 0, 0, 0.15);\n",
              "      filter: drop-shadow(0px 1px 2px rgba(0, 0, 0, 0.3));\n",
              "      fill: #FFFFFF;\n",
              "    }\n",
              "  </style>\n",
              "\n",
              "      <script>\n",
              "        const buttonEl =\n",
              "          document.querySelector('#df-34023cc4-89d9-4711-8638-4845bd3c6fa1 button.colab-df-convert');\n",
              "        buttonEl.style.display =\n",
              "          google.colab.kernel.accessAllowed ? 'block' : 'none';\n",
              "\n",
              "        async function convertToInteractive(key) {\n",
              "          const element = document.querySelector('#df-34023cc4-89d9-4711-8638-4845bd3c6fa1');\n",
              "          const dataTable =\n",
              "            await google.colab.kernel.invokeFunction('convertToInteractive',\n",
              "                                                     [key], {});\n",
              "          if (!dataTable) return;\n",
              "\n",
              "          const docLinkHtml = 'Like what you see? Visit the ' +\n",
              "            '<a target=\"_blank\" href=https://colab.research.google.com/notebooks/data_table.ipynb>data table notebook</a>'\n",
              "            + ' to learn more about interactive tables.';\n",
              "          element.innerHTML = '';\n",
              "          dataTable['output_type'] = 'display_data';\n",
              "          await google.colab.output.renderOutput(dataTable, element);\n",
              "          const docLink = document.createElement('div');\n",
              "          docLink.innerHTML = docLinkHtml;\n",
              "          element.appendChild(docLink);\n",
              "        }\n",
              "      </script>\n",
              "    </div>\n",
              "  </div>\n",
              "  "
            ]
          },
          "metadata": {},
          "execution_count": 33
        }
      ]
    },
    {
      "cell_type": "code",
      "source": [
        "train.shape"
      ],
      "metadata": {
        "id": "dS0izMNNPP3y",
        "outputId": "67008c13-7cb1-4069-81fc-cfdea4176b9b",
        "colab": {
          "base_uri": "https://localhost:8080/"
        }
      },
      "execution_count": 34,
      "outputs": [
        {
          "output_type": "execute_result",
          "data": {
            "text/plain": [
              "(120, 4)"
            ]
          },
          "metadata": {},
          "execution_count": 34
        }
      ]
    },
    {
      "cell_type": "markdown",
      "source": [],
      "metadata": {
        "id": "ZUjmKlTAPnK3"
      }
    },
    {
      "cell_type": "markdown",
      "source": [
        "##### Define input function"
      ],
      "metadata": {
        "id": "t6U7JNAXPnxm"
      }
    },
    {
      "cell_type": "code",
      "source": [
        "def input_fn(features, labels, training=True, batch_size=256):\n",
        "  # Convert the inputs to a Dataset\n",
        "  dataset = tf.data.Dataset.from_tensor_slices((dict(features), labels))\n",
        "\n",
        "  # Shufle and repeat if in training mode \n",
        "  if training:\n",
        "    dataset = dataset.shuffle(1000).repeat() # what is repeat?\n",
        "\n",
        "  return dataset.batch(batch_size)"
      ],
      "metadata": {
        "id": "hdbY9fj3PrgA"
      },
      "execution_count": 35,
      "outputs": []
    },
    {
      "cell_type": "markdown",
      "source": [
        "#### Feature Columns"
      ],
      "metadata": {
        "id": "KnvhmNteRWd7"
      }
    },
    {
      "cell_type": "code",
      "source": [
        "classification_feature_columns = [] \n",
        "\n",
        "for key in train.keys():\n",
        "  classification_feature_columns.append(tf.feature_column.numeric_column(key=key))\n",
        "print(classification_feature_columns)\n"
      ],
      "metadata": {
        "id": "DKMi21yNRbz1",
        "outputId": "b36f34c0-99ec-422d-e7d6-7b2e516ea9f4",
        "colab": {
          "base_uri": "https://localhost:8080/"
        }
      },
      "execution_count": 36,
      "outputs": [
        {
          "output_type": "stream",
          "name": "stdout",
          "text": [
            "[NumericColumn(key='SepalLength', shape=(1,), default_value=None, dtype=tf.float32, normalizer_fn=None), NumericColumn(key='SepalWidth', shape=(1,), default_value=None, dtype=tf.float32, normalizer_fn=None), NumericColumn(key='PetalLength', shape=(1,), default_value=None, dtype=tf.float32, normalizer_fn=None), NumericColumn(key='PetalWidth', shape=(1,), default_value=None, dtype=tf.float32, normalizer_fn=None)]\n"
          ]
        }
      ]
    },
    {
      "cell_type": "markdown",
      "source": [
        "#### Build model"
      ],
      "metadata": {
        "id": "zmDxxHaFSs3H"
      }
    },
    {
      "cell_type": "code",
      "source": [
        "classifier = tf.estimator.DNNClassifier(\n",
        "    feature_columns=classification_feature_columns,\n",
        "    hidden_units=[30, 10],\n",
        "    n_classes=3\n",
        ")"
      ],
      "metadata": {
        "id": "4IvQX_Q2S2Fb",
        "outputId": "3ad356ad-ad9c-431f-aa13-ee50919e1608",
        "colab": {
          "base_uri": "https://localhost:8080/"
        }
      },
      "execution_count": 38,
      "outputs": [
        {
          "output_type": "stream",
          "name": "stderr",
          "text": [
            "WARNING:tensorflow:Using temporary folder as model directory: /tmp/tmptspwebzj\n"
          ]
        }
      ]
    },
    {
      "cell_type": "markdown",
      "source": [
        "#### Train the Model"
      ],
      "metadata": {
        "id": "1fUNq4dMTdDo"
      }
    },
    {
      "cell_type": "code",
      "source": [
        "classifier.train(\n",
        "    input_fn=lambda: input_fn(train, train_y, training=True),\n",
        "    steps=5000\n",
        ")"
      ],
      "metadata": {
        "colab": {
          "base_uri": "https://localhost:8080/"
        },
        "id": "Esmw6tIzTfNe",
        "outputId": "dcfad36e-cefe-4dfd-c484-06db0e82ce8b"
      },
      "execution_count": 42,
      "outputs": [
        {
          "output_type": "stream",
          "name": "stderr",
          "text": [
            "WARNING:tensorflow:From /usr/local/lib/python3.8/dist-packages/tensorflow/python/training/saver.py:1175: get_checkpoint_mtimes (from tensorflow.python.training.checkpoint_management) is deprecated and will be removed in a future version.\n",
            "Instructions for updating:\n",
            "Use standard file utilities to get mtimes.\n"
          ]
        },
        {
          "output_type": "execute_result",
          "data": {
            "text/plain": [
              "<tensorflow_estimator.python.estimator.canned.dnn.DNNClassifierV2 at 0x7f668eda4d30>"
            ]
          },
          "metadata": {},
          "execution_count": 42
        }
      ]
    },
    {
      "cell_type": "markdown",
      "source": [
        "#### Evaluate the Model"
      ],
      "metadata": {
        "id": "Np23jI9pUgwE"
      }
    },
    {
      "cell_type": "code",
      "source": [
        "eval_result = classifier.evaluate(\n",
        "    input_fn=lambda: input_fn(test, test_y, training=False))\n",
        "\n",
        "print('\\nTest set accuracy: {accuracy:0.3f}\\n'.format(**eval_result))"
      ],
      "metadata": {
        "id": "diuVA74zUi08",
        "outputId": "c24f3eb8-9d9d-45f8-a5b2-873315509a36",
        "colab": {
          "base_uri": "https://localhost:8080/"
        }
      },
      "execution_count": 43,
      "outputs": [
        {
          "output_type": "stream",
          "name": "stdout",
          "text": [
            "\n",
            "Test set accuracy: 0.967\n",
            "\n"
          ]
        }
      ]
    },
    {
      "cell_type": "markdown",
      "source": [
        "#### Predictions"
      ],
      "metadata": {
        "id": "H2k5NaoQWawJ"
      }
    },
    {
      "cell_type": "code",
      "source": [
        "# Code copied from notes\n",
        "def input_fn(features, batch_size=256):\n",
        "    # Convert the inputs to a Dataset without labels.\n",
        "    return tf.data.Dataset.from_tensor_slices(dict(features)).batch(batch_size)\n",
        "\n",
        "features = ['SepalLength', 'SepalWidth', 'PetalLength', 'PetalWidth']\n",
        "predict = {}\n",
        "\n",
        "print(\"Please type numeric values as prompted.\")\n",
        "for feature in features:\n",
        "  valid = True\n",
        "  while valid: \n",
        "    val = input(feature + \": \")\n",
        "    if not val.isdigit(): valid = False\n",
        "\n",
        "  predict[feature] = [float(val)]\n",
        "\n",
        "predictions = classifier.predict(input_fn=lambda: input_fn(predict))\n",
        "for pred_dict in predictions:\n",
        "    class_id = pred_dict['class_ids'][0]\n",
        "    probability = pred_dict['probabilities'][class_id]\n",
        "\n",
        "    print('Prediction is \"{}\" ({:.1f}%)'.format(\n",
        "        SPECIES[class_id], 100 * probability))"
      ],
      "metadata": {
        "id": "rwna6kCXWdGo",
        "outputId": "efca0bf2-63cc-4a1f-eda8-9ac0bdaf31f8",
        "colab": {
          "base_uri": "https://localhost:8080/"
        }
      },
      "execution_count": 46,
      "outputs": [
        {
          "output_type": "stream",
          "name": "stdout",
          "text": [
            "Please type numeric values as prompted.\n",
            "SepalLength: 5.1\n",
            "SepalWidth: 2.3\n",
            "PetalLength: 3.3\n",
            "PetalWidth: 0.99\n",
            "Prediction is \"Versicolor\" (65.4%)\n"
          ]
        }
      ]
    }
  ],
  "metadata": {
    "kernelspec": {
      "display_name": "Python 3.10.6 64-bit",
      "language": "python",
      "name": "python3"
    },
    "language_info": {
      "name": "python",
      "version": "3.10.6"
    },
    "orig_nbformat": 4,
    "vscode": {
      "interpreter": {
        "hash": "e7370f93d1d0cde622a1f8e1c04877d8463912d04d973331ad4851f04de6915a"
      }
    },
    "colab": {
      "provenance": [],
      "toc_visible": true,
      "include_colab_link": true
    }
  },
  "nbformat": 4,
  "nbformat_minor": 0
}